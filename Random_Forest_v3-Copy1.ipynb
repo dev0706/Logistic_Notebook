{
 "cells": [
  {
   "cell_type": "code",
   "execution_count": 1,
   "metadata": {},
   "outputs": [],
   "source": [
    "import os\n",
    "import pandas as pd \n",
    "import numpy as np\n",
    "import matplotlib.pyplot as plt\n",
    "import seaborn as sns\n",
    "\n",
    "from sklearn.model_selection import train_test_split, GridSearchCV\n",
    "from sklearn.metrics import f1_score, precision_score, recall_score\n",
    "from sklearn.ensemble import RandomForestRegressor\n",
    "\n",
    "# Increase the print output\n",
    "pd.set_option('display.max_rows', 500)\n",
    "pd.set_option('display.max_columns', 500)\n",
    "pd.set_option('display.width', 1000)"
   ]
  },
  {
   "cell_type": "markdown",
   "metadata": {},
   "source": [
    "### PROBLEM STATEMENT\n",
    "\n",
    "This case study is to predict the taxi fare for a taxi ride in New York City from a given pickup point to the agreed dropoff location. Decision tree and Random Forest regressor is used for the fare prediction.\n",
    "\n",
    "### DATA DEFINITION\n",
    "\n",
    "**unique_id**: Unique identifier or key for each record in the dataset - (string)    \n",
    "\n",
    "**date_time_of_pickup**: time when the ride started - (timestamp)\n",
    "\n",
    "**longitude_of_pickup**: Longitude of the taxi ride pickup point - (float) - (Numerical) \n",
    " \n",
    "**latitude_of_pickup**: Latitude of the taxi ride pickup point - (float) - (Numerical)\n",
    "    \n",
    "**longitude__of_dropoff**: Longitude of the taxi ride dropoff point  - (float) - (Numerical)\n",
    "    \n",
    "**latitude_of_dropoff**: Latitude of the taxi ride dropoff point - (float) - (Numerical)\n",
    "    \n",
    "**no_of_passenger**: count of the passengers during the ride - (integer) - (Numerical)\n",
    "    \n",
    "**amount**: (target variable)dollar amount of the cost of the taxi ride"
   ]
  },
  {
   "cell_type": "code",
   "execution_count": 2,
   "metadata": {},
   "outputs": [],
   "source": [
    "# Set working directory\n",
    "os.chdir(\"C:/Users/rahul/Documents/IMR/PGDA/Datasets/Random_Forest\")\n",
    "\n",
    "# Read in the data\n",
    "fullRaw = pd.read_csv(\"TaxiFare.csv\")"
   ]
  },
  {
   "cell_type": "code",
   "execution_count": 3,
   "metadata": {},
   "outputs": [
    {
     "data": {
      "text/html": [
       "<div>\n",
       "<style scoped>\n",
       "    .dataframe tbody tr th:only-of-type {\n",
       "        vertical-align: middle;\n",
       "    }\n",
       "\n",
       "    .dataframe tbody tr th {\n",
       "        vertical-align: top;\n",
       "    }\n",
       "\n",
       "    .dataframe thead th {\n",
       "        text-align: right;\n",
       "    }\n",
       "</style>\n",
       "<table border=\"1\" class=\"dataframe\">\n",
       "  <thead>\n",
       "    <tr style=\"text-align: right;\">\n",
       "      <th></th>\n",
       "      <th>unique_id</th>\n",
       "      <th>amount</th>\n",
       "      <th>date_time_of_pickup</th>\n",
       "      <th>longitude_of_pickup</th>\n",
       "      <th>latitude_of_pickup</th>\n",
       "      <th>longitude_of_dropoff</th>\n",
       "      <th>latitude_of_dropoff</th>\n",
       "      <th>no_of_passenger</th>\n",
       "    </tr>\n",
       "  </thead>\n",
       "  <tbody>\n",
       "    <tr>\n",
       "      <th>0</th>\n",
       "      <td>26:21.0</td>\n",
       "      <td>4.5</td>\n",
       "      <td>2009-06-15 17:26:21 UTC</td>\n",
       "      <td>-73.844311</td>\n",
       "      <td>40.721319</td>\n",
       "      <td>-73.841610</td>\n",
       "      <td>40.712278</td>\n",
       "      <td>1</td>\n",
       "    </tr>\n",
       "    <tr>\n",
       "      <th>1</th>\n",
       "      <td>52:16.0</td>\n",
       "      <td>16.9</td>\n",
       "      <td>2010-01-05 16:52:16 UTC</td>\n",
       "      <td>-74.016048</td>\n",
       "      <td>40.711303</td>\n",
       "      <td>-73.979268</td>\n",
       "      <td>40.782004</td>\n",
       "      <td>1</td>\n",
       "    </tr>\n",
       "    <tr>\n",
       "      <th>2</th>\n",
       "      <td>35:00.0</td>\n",
       "      <td>5.7</td>\n",
       "      <td>2011-08-18 00:35:00 UTC</td>\n",
       "      <td>-73.982738</td>\n",
       "      <td>40.761270</td>\n",
       "      <td>-73.991242</td>\n",
       "      <td>40.750562</td>\n",
       "      <td>2</td>\n",
       "    </tr>\n",
       "    <tr>\n",
       "      <th>3</th>\n",
       "      <td>30:42.0</td>\n",
       "      <td>7.7</td>\n",
       "      <td>2012-04-21 04:30:42 UTC</td>\n",
       "      <td>-73.987130</td>\n",
       "      <td>40.733143</td>\n",
       "      <td>-73.991567</td>\n",
       "      <td>40.758092</td>\n",
       "      <td>1</td>\n",
       "    </tr>\n",
       "    <tr>\n",
       "      <th>4</th>\n",
       "      <td>51:00.0</td>\n",
       "      <td>5.3</td>\n",
       "      <td>2010-03-09 07:51:00 UTC</td>\n",
       "      <td>-73.968095</td>\n",
       "      <td>40.768008</td>\n",
       "      <td>-73.956655</td>\n",
       "      <td>40.783762</td>\n",
       "      <td>1</td>\n",
       "    </tr>\n",
       "  </tbody>\n",
       "</table>\n",
       "</div>"
      ],
      "text/plain": [
       "  unique_id  amount      date_time_of_pickup  longitude_of_pickup  latitude_of_pickup  longitude_of_dropoff  latitude_of_dropoff  no_of_passenger\n",
       "0   26:21.0     4.5  2009-06-15 17:26:21 UTC           -73.844311           40.721319            -73.841610            40.712278                1\n",
       "1   52:16.0    16.9  2010-01-05 16:52:16 UTC           -74.016048           40.711303            -73.979268            40.782004                1\n",
       "2   35:00.0     5.7  2011-08-18 00:35:00 UTC           -73.982738           40.761270            -73.991242            40.750562                2\n",
       "3   30:42.0     7.7  2012-04-21 04:30:42 UTC           -73.987130           40.733143            -73.991567            40.758092                1\n",
       "4   51:00.0     5.3  2010-03-09 07:51:00 UTC           -73.968095           40.768008            -73.956655            40.783762                1"
      ]
     },
     "execution_count": 3,
     "metadata": {},
     "output_type": "execute_result"
    }
   ],
   "source": [
    "fullRaw.head()"
   ]
  },
  {
   "cell_type": "markdown",
   "metadata": {},
   "source": [
    "### BASIC DATA CHECKS/ QUALITY CHECKS"
   ]
  },
  {
   "cell_type": "code",
   "execution_count": 4,
   "metadata": {},
   "outputs": [
    {
     "name": "stdout",
     "output_type": "stream",
     "text": [
      "(50000, 8)\n",
      "<class 'pandas.core.frame.DataFrame'>\n",
      "RangeIndex: 50000 entries, 0 to 49999\n",
      "Data columns (total 8 columns):\n",
      " #   Column                Non-Null Count  Dtype  \n",
      "---  ------                --------------  -----  \n",
      " 0   unique_id             50000 non-null  object \n",
      " 1   amount                50000 non-null  float64\n",
      " 2   date_time_of_pickup   50000 non-null  object \n",
      " 3   longitude_of_pickup   50000 non-null  float64\n",
      " 4   latitude_of_pickup    50000 non-null  float64\n",
      " 5   longitude_of_dropoff  50000 non-null  float64\n",
      " 6   latitude_of_dropoff   50000 non-null  float64\n",
      " 7   no_of_passenger       50000 non-null  int64  \n",
      "dtypes: float64(5), int64(1), object(2)\n",
      "memory usage: 3.1+ MB\n"
     ]
    }
   ],
   "source": [
    "# Check the total rows\n",
    "print(fullRaw.shape)\n",
    "\n",
    "# Check the data types for variables\n",
    "# fullRaw.dtypes\n",
    "\n",
    "fullRaw.info()"
   ]
  },
  {
   "cell_type": "markdown",
   "metadata": {},
   "source": [
    "1. Categorical to Datetime correction of date_time_of_pickup column\n",
    "\n",
    "2. Remove unique_id column"
   ]
  },
  {
   "cell_type": "code",
   "execution_count": 5,
   "metadata": {},
   "outputs": [
    {
     "data": {
      "text/plain": [
       "unique_id                            object\n",
       "amount                              float64\n",
       "date_time_of_pickup     datetime64[ns, UTC]\n",
       "longitude_of_pickup                 float64\n",
       "latitude_of_pickup                  float64\n",
       "longitude_of_dropoff                float64\n",
       "latitude_of_dropoff                 float64\n",
       "no_of_passenger                       int64\n",
       "dtype: object"
      ]
     },
     "execution_count": 5,
     "metadata": {},
     "output_type": "execute_result"
    }
   ],
   "source": [
    "# 1. Categorical to Datetime correction of date_time_of_pickup column\n",
    "\n",
    "fullRaw[\"date_time_of_pickup\"] = pd.to_datetime(fullRaw[\"date_time_of_pickup\"])\n",
    "fullRaw.dtypes\n",
    "\n",
    "# datetime64[ns, UTC] stores the time along with date information. \"ns\" is nanosecond, UTC is basically GMT."
   ]
  },
  {
   "cell_type": "code",
   "execution_count": 6,
   "metadata": {},
   "outputs": [
    {
     "data": {
      "text/html": [
       "<div>\n",
       "<style scoped>\n",
       "    .dataframe tbody tr th:only-of-type {\n",
       "        vertical-align: middle;\n",
       "    }\n",
       "\n",
       "    .dataframe tbody tr th {\n",
       "        vertical-align: top;\n",
       "    }\n",
       "\n",
       "    .dataframe thead th {\n",
       "        text-align: right;\n",
       "    }\n",
       "</style>\n",
       "<table border=\"1\" class=\"dataframe\">\n",
       "  <thead>\n",
       "    <tr style=\"text-align: right;\">\n",
       "      <th></th>\n",
       "      <th>unique_id</th>\n",
       "      <th>amount</th>\n",
       "      <th>date_time_of_pickup</th>\n",
       "      <th>longitude_of_pickup</th>\n",
       "      <th>latitude_of_pickup</th>\n",
       "      <th>longitude_of_dropoff</th>\n",
       "      <th>latitude_of_dropoff</th>\n",
       "      <th>no_of_passenger</th>\n",
       "    </tr>\n",
       "  </thead>\n",
       "  <tbody>\n",
       "    <tr>\n",
       "      <th>0</th>\n",
       "      <td>26:21.0</td>\n",
       "      <td>4.5</td>\n",
       "      <td>2009-06-15 17:26:21+00:00</td>\n",
       "      <td>-73.844311</td>\n",
       "      <td>40.721319</td>\n",
       "      <td>-73.841610</td>\n",
       "      <td>40.712278</td>\n",
       "      <td>1</td>\n",
       "    </tr>\n",
       "    <tr>\n",
       "      <th>1</th>\n",
       "      <td>52:16.0</td>\n",
       "      <td>16.9</td>\n",
       "      <td>2010-01-05 16:52:16+00:00</td>\n",
       "      <td>-74.016048</td>\n",
       "      <td>40.711303</td>\n",
       "      <td>-73.979268</td>\n",
       "      <td>40.782004</td>\n",
       "      <td>1</td>\n",
       "    </tr>\n",
       "    <tr>\n",
       "      <th>2</th>\n",
       "      <td>35:00.0</td>\n",
       "      <td>5.7</td>\n",
       "      <td>2011-08-18 00:35:00+00:00</td>\n",
       "      <td>-73.982738</td>\n",
       "      <td>40.761270</td>\n",
       "      <td>-73.991242</td>\n",
       "      <td>40.750562</td>\n",
       "      <td>2</td>\n",
       "    </tr>\n",
       "    <tr>\n",
       "      <th>3</th>\n",
       "      <td>30:42.0</td>\n",
       "      <td>7.7</td>\n",
       "      <td>2012-04-21 04:30:42+00:00</td>\n",
       "      <td>-73.987130</td>\n",
       "      <td>40.733143</td>\n",
       "      <td>-73.991567</td>\n",
       "      <td>40.758092</td>\n",
       "      <td>1</td>\n",
       "    </tr>\n",
       "    <tr>\n",
       "      <th>4</th>\n",
       "      <td>51:00.0</td>\n",
       "      <td>5.3</td>\n",
       "      <td>2010-03-09 07:51:00+00:00</td>\n",
       "      <td>-73.968095</td>\n",
       "      <td>40.768008</td>\n",
       "      <td>-73.956655</td>\n",
       "      <td>40.783762</td>\n",
       "      <td>1</td>\n",
       "    </tr>\n",
       "  </tbody>\n",
       "</table>\n",
       "</div>"
      ],
      "text/plain": [
       "  unique_id  amount       date_time_of_pickup  longitude_of_pickup  latitude_of_pickup  longitude_of_dropoff  latitude_of_dropoff  no_of_passenger\n",
       "0   26:21.0     4.5 2009-06-15 17:26:21+00:00           -73.844311           40.721319            -73.841610            40.712278                1\n",
       "1   52:16.0    16.9 2010-01-05 16:52:16+00:00           -74.016048           40.711303            -73.979268            40.782004                1\n",
       "2   35:00.0     5.7 2011-08-18 00:35:00+00:00           -73.982738           40.761270            -73.991242            40.750562                2\n",
       "3   30:42.0     7.7 2012-04-21 04:30:42+00:00           -73.987130           40.733143            -73.991567            40.758092                1\n",
       "4   51:00.0     5.3 2010-03-09 07:51:00+00:00           -73.968095           40.768008            -73.956655            40.783762                1"
      ]
     },
     "execution_count": 6,
     "metadata": {},
     "output_type": "execute_result"
    }
   ],
   "source": [
    "fullRaw.head()"
   ]
  },
  {
   "cell_type": "code",
   "execution_count": 7,
   "metadata": {},
   "outputs": [
    {
     "data": {
      "text/html": [
       "<div>\n",
       "<style scoped>\n",
       "    .dataframe tbody tr th:only-of-type {\n",
       "        vertical-align: middle;\n",
       "    }\n",
       "\n",
       "    .dataframe tbody tr th {\n",
       "        vertical-align: top;\n",
       "    }\n",
       "\n",
       "    .dataframe thead th {\n",
       "        text-align: right;\n",
       "    }\n",
       "</style>\n",
       "<table border=\"1\" class=\"dataframe\">\n",
       "  <thead>\n",
       "    <tr style=\"text-align: right;\">\n",
       "      <th></th>\n",
       "      <th>amount</th>\n",
       "      <th>date_time_of_pickup</th>\n",
       "      <th>longitude_of_pickup</th>\n",
       "      <th>latitude_of_pickup</th>\n",
       "      <th>longitude_of_dropoff</th>\n",
       "      <th>latitude_of_dropoff</th>\n",
       "      <th>no_of_passenger</th>\n",
       "    </tr>\n",
       "  </thead>\n",
       "  <tbody>\n",
       "    <tr>\n",
       "      <th>0</th>\n",
       "      <td>4.5</td>\n",
       "      <td>2009-06-15 17:26:21+00:00</td>\n",
       "      <td>-73.844311</td>\n",
       "      <td>40.721319</td>\n",
       "      <td>-73.841610</td>\n",
       "      <td>40.712278</td>\n",
       "      <td>1</td>\n",
       "    </tr>\n",
       "    <tr>\n",
       "      <th>1</th>\n",
       "      <td>16.9</td>\n",
       "      <td>2010-01-05 16:52:16+00:00</td>\n",
       "      <td>-74.016048</td>\n",
       "      <td>40.711303</td>\n",
       "      <td>-73.979268</td>\n",
       "      <td>40.782004</td>\n",
       "      <td>1</td>\n",
       "    </tr>\n",
       "    <tr>\n",
       "      <th>2</th>\n",
       "      <td>5.7</td>\n",
       "      <td>2011-08-18 00:35:00+00:00</td>\n",
       "      <td>-73.982738</td>\n",
       "      <td>40.761270</td>\n",
       "      <td>-73.991242</td>\n",
       "      <td>40.750562</td>\n",
       "      <td>2</td>\n",
       "    </tr>\n",
       "    <tr>\n",
       "      <th>3</th>\n",
       "      <td>7.7</td>\n",
       "      <td>2012-04-21 04:30:42+00:00</td>\n",
       "      <td>-73.987130</td>\n",
       "      <td>40.733143</td>\n",
       "      <td>-73.991567</td>\n",
       "      <td>40.758092</td>\n",
       "      <td>1</td>\n",
       "    </tr>\n",
       "    <tr>\n",
       "      <th>4</th>\n",
       "      <td>5.3</td>\n",
       "      <td>2010-03-09 07:51:00+00:00</td>\n",
       "      <td>-73.968095</td>\n",
       "      <td>40.768008</td>\n",
       "      <td>-73.956655</td>\n",
       "      <td>40.783762</td>\n",
       "      <td>1</td>\n",
       "    </tr>\n",
       "  </tbody>\n",
       "</table>\n",
       "</div>"
      ],
      "text/plain": [
       "   amount       date_time_of_pickup  longitude_of_pickup  latitude_of_pickup  longitude_of_dropoff  latitude_of_dropoff  no_of_passenger\n",
       "0     4.5 2009-06-15 17:26:21+00:00           -73.844311           40.721319            -73.841610            40.712278                1\n",
       "1    16.9 2010-01-05 16:52:16+00:00           -74.016048           40.711303            -73.979268            40.782004                1\n",
       "2     5.7 2011-08-18 00:35:00+00:00           -73.982738           40.761270            -73.991242            40.750562                2\n",
       "3     7.7 2012-04-21 04:30:42+00:00           -73.987130           40.733143            -73.991567            40.758092                1\n",
       "4     5.3 2010-03-09 07:51:00+00:00           -73.968095           40.768008            -73.956655            40.783762                1"
      ]
     },
     "execution_count": 7,
     "metadata": {},
     "output_type": "execute_result"
    }
   ],
   "source": [
    "# 2. Remove unique_id column\n",
    "fullRaw.drop(\"unique_id\", axis = 1, inplace = True)\n",
    "fullRaw.head()"
   ]
  },
  {
   "cell_type": "markdown",
   "metadata": {},
   "source": [
    "#### Missing Values Check"
   ]
  },
  {
   "cell_type": "code",
   "execution_count": 8,
   "metadata": {},
   "outputs": [
    {
     "data": {
      "text/plain": [
       "amount                  0\n",
       "date_time_of_pickup     0\n",
       "longitude_of_pickup     0\n",
       "latitude_of_pickup      0\n",
       "longitude_of_dropoff    0\n",
       "latitude_of_dropoff     0\n",
       "no_of_passenger         0\n",
       "dtype: int64"
      ]
     },
     "execution_count": 8,
     "metadata": {},
     "output_type": "execute_result"
    }
   ],
   "source": [
    "fullRaw.isna().sum()"
   ]
  },
  {
   "cell_type": "code",
   "execution_count": null,
   "metadata": {},
   "outputs": [],
   "source": []
  },
  {
   "cell_type": "markdown",
   "metadata": {},
   "source": [
    "### RANDOM SAMPLING"
   ]
  },
  {
   "cell_type": "code",
   "execution_count": 9,
   "metadata": {},
   "outputs": [
    {
     "name": "stdout",
     "output_type": "stream",
     "text": [
      "(37500, 7)\n",
      "(12500, 7)\n"
     ]
    }
   ],
   "source": [
    "# Randomly Sample Raw Data into Training and Testing. train_test_split() is used for random sampling\n",
    "\n",
    "trainRaw, testRaw = train_test_split(fullRaw, train_size=0.75, random_state = 150)\n",
    "# random_state ensures reproducibility of same random results. Any number of your choice would work, I have taken 150.\n",
    "\n",
    "print(trainRaw.shape)\n",
    "print(testRaw.shape)"
   ]
  },
  {
   "cell_type": "code",
   "execution_count": 10,
   "metadata": {},
   "outputs": [],
   "source": [
    "# Create Source Column in all the datasets. It helps in keeping track of which rows belong to which source of data.\n",
    "\n",
    "trainRaw = trainRaw.copy()\n",
    "testRaw = testRaw.copy()\n",
    "\n",
    "trainRaw[\"Source\"] = \"Train\"\n",
    "testRaw[\"Source\"] = \"Test\""
   ]
  },
  {
   "cell_type": "code",
   "execution_count": 11,
   "metadata": {},
   "outputs": [
    {
     "data": {
      "text/html": [
       "<div>\n",
       "<style scoped>\n",
       "    .dataframe tbody tr th:only-of-type {\n",
       "        vertical-align: middle;\n",
       "    }\n",
       "\n",
       "    .dataframe tbody tr th {\n",
       "        vertical-align: top;\n",
       "    }\n",
       "\n",
       "    .dataframe thead th {\n",
       "        text-align: right;\n",
       "    }\n",
       "</style>\n",
       "<table border=\"1\" class=\"dataframe\">\n",
       "  <thead>\n",
       "    <tr style=\"text-align: right;\">\n",
       "      <th></th>\n",
       "      <th>amount</th>\n",
       "      <th>date_time_of_pickup</th>\n",
       "      <th>longitude_of_pickup</th>\n",
       "      <th>latitude_of_pickup</th>\n",
       "      <th>longitude_of_dropoff</th>\n",
       "      <th>latitude_of_dropoff</th>\n",
       "      <th>no_of_passenger</th>\n",
       "      <th>Source</th>\n",
       "    </tr>\n",
       "  </thead>\n",
       "  <tbody>\n",
       "    <tr>\n",
       "      <th>15187</th>\n",
       "      <td>7.0</td>\n",
       "      <td>2014-01-01 16:18:10+00:00</td>\n",
       "      <td>-73.982478</td>\n",
       "      <td>40.751692</td>\n",
       "      <td>-73.995197</td>\n",
       "      <td>40.731588</td>\n",
       "      <td>1</td>\n",
       "      <td>Train</td>\n",
       "    </tr>\n",
       "    <tr>\n",
       "      <th>49026</th>\n",
       "      <td>45.0</td>\n",
       "      <td>2009-10-05 15:46:00+00:00</td>\n",
       "      <td>-73.971218</td>\n",
       "      <td>40.759837</td>\n",
       "      <td>-73.791723</td>\n",
       "      <td>40.644835</td>\n",
       "      <td>1</td>\n",
       "      <td>Train</td>\n",
       "    </tr>\n",
       "    <tr>\n",
       "      <th>118</th>\n",
       "      <td>32.5</td>\n",
       "      <td>2012-05-11 15:03:53+00:00</td>\n",
       "      <td>-73.872862</td>\n",
       "      <td>40.774105</td>\n",
       "      <td>-73.970593</td>\n",
       "      <td>40.764393</td>\n",
       "      <td>2</td>\n",
       "      <td>Train</td>\n",
       "    </tr>\n",
       "    <tr>\n",
       "      <th>46090</th>\n",
       "      <td>12.5</td>\n",
       "      <td>2012-10-10 19:26:09+00:00</td>\n",
       "      <td>-73.988796</td>\n",
       "      <td>40.736502</td>\n",
       "      <td>-73.956793</td>\n",
       "      <td>40.766549</td>\n",
       "      <td>1</td>\n",
       "      <td>Train</td>\n",
       "    </tr>\n",
       "    <tr>\n",
       "      <th>31430</th>\n",
       "      <td>6.9</td>\n",
       "      <td>2010-08-20 08:53:18+00:00</td>\n",
       "      <td>-73.984922</td>\n",
       "      <td>40.768653</td>\n",
       "      <td>-73.966285</td>\n",
       "      <td>40.764993</td>\n",
       "      <td>1</td>\n",
       "      <td>Train</td>\n",
       "    </tr>\n",
       "  </tbody>\n",
       "</table>\n",
       "</div>"
      ],
      "text/plain": [
       "       amount       date_time_of_pickup  longitude_of_pickup  latitude_of_pickup  longitude_of_dropoff  latitude_of_dropoff  no_of_passenger Source\n",
       "15187     7.0 2014-01-01 16:18:10+00:00           -73.982478           40.751692            -73.995197            40.731588                1  Train\n",
       "49026    45.0 2009-10-05 15:46:00+00:00           -73.971218           40.759837            -73.791723            40.644835                1  Train\n",
       "118      32.5 2012-05-11 15:03:53+00:00           -73.872862           40.774105            -73.970593            40.764393                2  Train\n",
       "46090    12.5 2012-10-10 19:26:09+00:00           -73.988796           40.736502            -73.956793            40.766549                1  Train\n",
       "31430     6.9 2010-08-20 08:53:18+00:00           -73.984922           40.768653            -73.966285            40.764993                1  Train"
      ]
     },
     "execution_count": 11,
     "metadata": {},
     "output_type": "execute_result"
    }
   ],
   "source": [
    "trainRaw.head()\n",
    "# testRaw.head()"
   ]
  },
  {
   "cell_type": "code",
   "execution_count": 12,
   "metadata": {},
   "outputs": [
    {
     "data": {
      "text/plain": [
       "(50000, 8)"
      ]
     },
     "execution_count": 12,
     "metadata": {},
     "output_type": "execute_result"
    }
   ],
   "source": [
    "# Combine Train, Test, Prediction\n",
    "fullRaw = pd.concat([trainRaw, testRaw], axis = 0)\n",
    "fullRaw.shape"
   ]
  },
  {
   "cell_type": "code",
   "execution_count": 13,
   "metadata": {},
   "outputs": [
    {
     "data": {
      "text/html": [
       "<div>\n",
       "<style scoped>\n",
       "    .dataframe tbody tr th:only-of-type {\n",
       "        vertical-align: middle;\n",
       "    }\n",
       "\n",
       "    .dataframe tbody tr th {\n",
       "        vertical-align: top;\n",
       "    }\n",
       "\n",
       "    .dataframe thead th {\n",
       "        text-align: right;\n",
       "    }\n",
       "</style>\n",
       "<table border=\"1\" class=\"dataframe\">\n",
       "  <thead>\n",
       "    <tr style=\"text-align: right;\">\n",
       "      <th></th>\n",
       "      <th>amount</th>\n",
       "      <th>date_time_of_pickup</th>\n",
       "      <th>longitude_of_pickup</th>\n",
       "      <th>latitude_of_pickup</th>\n",
       "      <th>longitude_of_dropoff</th>\n",
       "      <th>latitude_of_dropoff</th>\n",
       "      <th>no_of_passenger</th>\n",
       "      <th>Source</th>\n",
       "    </tr>\n",
       "  </thead>\n",
       "  <tbody>\n",
       "    <tr>\n",
       "      <th>13806</th>\n",
       "      <td>8.1</td>\n",
       "      <td>2009-04-08 00:31:00+00:00</td>\n",
       "      <td>-73.999960</td>\n",
       "      <td>40.720667</td>\n",
       "      <td>-73.995825</td>\n",
       "      <td>40.691527</td>\n",
       "      <td>1</td>\n",
       "      <td>Test</td>\n",
       "    </tr>\n",
       "    <tr>\n",
       "      <th>39640</th>\n",
       "      <td>9.3</td>\n",
       "      <td>2010-11-12 09:44:00+00:00</td>\n",
       "      <td>-73.994375</td>\n",
       "      <td>40.750688</td>\n",
       "      <td>-73.981453</td>\n",
       "      <td>40.757875</td>\n",
       "      <td>1</td>\n",
       "      <td>Test</td>\n",
       "    </tr>\n",
       "    <tr>\n",
       "      <th>39928</th>\n",
       "      <td>5.5</td>\n",
       "      <td>2013-11-08 13:02:25+00:00</td>\n",
       "      <td>-73.981353</td>\n",
       "      <td>40.781051</td>\n",
       "      <td>-73.983371</td>\n",
       "      <td>40.771366</td>\n",
       "      <td>1</td>\n",
       "      <td>Test</td>\n",
       "    </tr>\n",
       "    <tr>\n",
       "      <th>28363</th>\n",
       "      <td>28.1</td>\n",
       "      <td>2012-08-06 20:59:00+00:00</td>\n",
       "      <td>-73.874473</td>\n",
       "      <td>40.774002</td>\n",
       "      <td>-73.991550</td>\n",
       "      <td>40.762142</td>\n",
       "      <td>1</td>\n",
       "      <td>Test</td>\n",
       "    </tr>\n",
       "    <tr>\n",
       "      <th>10791</th>\n",
       "      <td>8.5</td>\n",
       "      <td>2010-08-08 06:54:00+00:00</td>\n",
       "      <td>-73.980015</td>\n",
       "      <td>40.745693</td>\n",
       "      <td>-73.991803</td>\n",
       "      <td>40.749562</td>\n",
       "      <td>5</td>\n",
       "      <td>Test</td>\n",
       "    </tr>\n",
       "  </tbody>\n",
       "</table>\n",
       "</div>"
      ],
      "text/plain": [
       "       amount       date_time_of_pickup  longitude_of_pickup  latitude_of_pickup  longitude_of_dropoff  latitude_of_dropoff  no_of_passenger Source\n",
       "13806     8.1 2009-04-08 00:31:00+00:00           -73.999960           40.720667            -73.995825            40.691527                1   Test\n",
       "39640     9.3 2010-11-12 09:44:00+00:00           -73.994375           40.750688            -73.981453            40.757875                1   Test\n",
       "39928     5.5 2013-11-08 13:02:25+00:00           -73.981353           40.781051            -73.983371            40.771366                1   Test\n",
       "28363    28.1 2012-08-06 20:59:00+00:00           -73.874473           40.774002            -73.991550            40.762142                1   Test\n",
       "10791     8.5 2010-08-08 06:54:00+00:00           -73.980015           40.745693            -73.991803            40.749562                5   Test"
      ]
     },
     "execution_count": 13,
     "metadata": {},
     "output_type": "execute_result"
    }
   ],
   "source": [
    "fullRaw.head()\n",
    "fullRaw.tail()"
   ]
  },
  {
   "cell_type": "code",
   "execution_count": null,
   "metadata": {},
   "outputs": [],
   "source": []
  },
  {
   "cell_type": "markdown",
   "metadata": {},
   "source": [
    "### DATA PREPARATION\n",
    "\n",
    "1. Extract \"date time\" components from date_time_of_pickup\n",
    "2. Extract appropriate distance travelled using latitude-longitude informtion using \"Haversine\" distance formula\n",
    "3. Eliminate some anamolous data based on certain \"Domain\" logic"
   ]
  },
  {
   "cell_type": "markdown",
   "metadata": {},
   "source": [
    "#### 1. Extract \"date time\" components from date_time_of_pickup"
   ]
  },
  {
   "cell_type": "code",
   "execution_count": 14,
   "metadata": {},
   "outputs": [
    {
     "data": {
      "text/html": [
       "<div>\n",
       "<style scoped>\n",
       "    .dataframe tbody tr th:only-of-type {\n",
       "        vertical-align: middle;\n",
       "    }\n",
       "\n",
       "    .dataframe tbody tr th {\n",
       "        vertical-align: top;\n",
       "    }\n",
       "\n",
       "    .dataframe thead th {\n",
       "        text-align: right;\n",
       "    }\n",
       "</style>\n",
       "<table border=\"1\" class=\"dataframe\">\n",
       "  <thead>\n",
       "    <tr style=\"text-align: right;\">\n",
       "      <th></th>\n",
       "      <th>amount</th>\n",
       "      <th>longitude_of_pickup</th>\n",
       "      <th>latitude_of_pickup</th>\n",
       "      <th>longitude_of_dropoff</th>\n",
       "      <th>latitude_of_dropoff</th>\n",
       "      <th>no_of_passenger</th>\n",
       "      <th>Source</th>\n",
       "      <th>hour</th>\n",
       "      <th>dayOfTheMonth</th>\n",
       "      <th>month</th>\n",
       "      <th>dayOfTheWeek</th>\n",
       "    </tr>\n",
       "  </thead>\n",
       "  <tbody>\n",
       "    <tr>\n",
       "      <th>15187</th>\n",
       "      <td>7.0</td>\n",
       "      <td>-73.982478</td>\n",
       "      <td>40.751692</td>\n",
       "      <td>-73.995197</td>\n",
       "      <td>40.731588</td>\n",
       "      <td>1</td>\n",
       "      <td>Train</td>\n",
       "      <td>16</td>\n",
       "      <td>1</td>\n",
       "      <td>1</td>\n",
       "      <td>2</td>\n",
       "    </tr>\n",
       "    <tr>\n",
       "      <th>49026</th>\n",
       "      <td>45.0</td>\n",
       "      <td>-73.971218</td>\n",
       "      <td>40.759837</td>\n",
       "      <td>-73.791723</td>\n",
       "      <td>40.644835</td>\n",
       "      <td>1</td>\n",
       "      <td>Train</td>\n",
       "      <td>15</td>\n",
       "      <td>5</td>\n",
       "      <td>10</td>\n",
       "      <td>0</td>\n",
       "    </tr>\n",
       "    <tr>\n",
       "      <th>118</th>\n",
       "      <td>32.5</td>\n",
       "      <td>-73.872862</td>\n",
       "      <td>40.774105</td>\n",
       "      <td>-73.970593</td>\n",
       "      <td>40.764393</td>\n",
       "      <td>2</td>\n",
       "      <td>Train</td>\n",
       "      <td>15</td>\n",
       "      <td>11</td>\n",
       "      <td>5</td>\n",
       "      <td>4</td>\n",
       "    </tr>\n",
       "    <tr>\n",
       "      <th>46090</th>\n",
       "      <td>12.5</td>\n",
       "      <td>-73.988796</td>\n",
       "      <td>40.736502</td>\n",
       "      <td>-73.956793</td>\n",
       "      <td>40.766549</td>\n",
       "      <td>1</td>\n",
       "      <td>Train</td>\n",
       "      <td>19</td>\n",
       "      <td>10</td>\n",
       "      <td>10</td>\n",
       "      <td>2</td>\n",
       "    </tr>\n",
       "    <tr>\n",
       "      <th>31430</th>\n",
       "      <td>6.9</td>\n",
       "      <td>-73.984922</td>\n",
       "      <td>40.768653</td>\n",
       "      <td>-73.966285</td>\n",
       "      <td>40.764993</td>\n",
       "      <td>1</td>\n",
       "      <td>Train</td>\n",
       "      <td>8</td>\n",
       "      <td>20</td>\n",
       "      <td>8</td>\n",
       "      <td>4</td>\n",
       "    </tr>\n",
       "  </tbody>\n",
       "</table>\n",
       "</div>"
      ],
      "text/plain": [
       "       amount  longitude_of_pickup  latitude_of_pickup  longitude_of_dropoff  latitude_of_dropoff  no_of_passenger Source  hour  dayOfTheMonth  month  dayOfTheWeek\n",
       "15187     7.0           -73.982478           40.751692            -73.995197            40.731588                1  Train    16              1      1             2\n",
       "49026    45.0           -73.971218           40.759837            -73.791723            40.644835                1  Train    15              5     10             0\n",
       "118      32.5           -73.872862           40.774105            -73.970593            40.764393                2  Train    15             11      5             4\n",
       "46090    12.5           -73.988796           40.736502            -73.956793            40.766549                1  Train    19             10     10             2\n",
       "31430     6.9           -73.984922           40.768653            -73.966285            40.764993                1  Train     8             20      8             4"
      ]
     },
     "execution_count": 14,
     "metadata": {},
     "output_type": "execute_result"
    }
   ],
   "source": [
    "# Extract various date time components as seperate indep variables\n",
    "fullRaw = fullRaw.assign(hour = fullRaw[\"date_time_of_pickup\"].dt.hour, \n",
    "                         dayOfTheMonth = fullRaw[\"date_time_of_pickup\"].dt.day,\n",
    "                        month = fullRaw[\"date_time_of_pickup\"].dt.month, \n",
    "                        dayOfTheWeek = fullRaw[\"date_time_of_pickup\"].dt.dayofweek)\n",
    "\n",
    "# Remove date_time_of_pickup\n",
    "fullRaw.drop(\"date_time_of_pickup\", axis = 1, inplace = True)\n",
    "\n",
    "fullRaw.head()"
   ]
  },
  {
   "cell_type": "code",
   "execution_count": 15,
   "metadata": {},
   "outputs": [
    {
     "data": {
      "text/html": [
       "<div>\n",
       "<style scoped>\n",
       "    .dataframe tbody tr th:only-of-type {\n",
       "        vertical-align: middle;\n",
       "    }\n",
       "\n",
       "    .dataframe tbody tr th {\n",
       "        vertical-align: top;\n",
       "    }\n",
       "\n",
       "    .dataframe thead th {\n",
       "        text-align: right;\n",
       "    }\n",
       "</style>\n",
       "<table border=\"1\" class=\"dataframe\">\n",
       "  <thead>\n",
       "    <tr style=\"text-align: right;\">\n",
       "      <th></th>\n",
       "      <th>amount</th>\n",
       "      <th>longitude_of_pickup</th>\n",
       "      <th>latitude_of_pickup</th>\n",
       "      <th>longitude_of_dropoff</th>\n",
       "      <th>latitude_of_dropoff</th>\n",
       "      <th>no_of_passenger</th>\n",
       "      <th>Source</th>\n",
       "      <th>hour</th>\n",
       "      <th>dayOfTheMonth</th>\n",
       "      <th>month</th>\n",
       "      <th>dayOfTheWeek</th>\n",
       "    </tr>\n",
       "  </thead>\n",
       "  <tbody>\n",
       "    <tr>\n",
       "      <th>15187</th>\n",
       "      <td>7.0</td>\n",
       "      <td>-73.982478</td>\n",
       "      <td>40.751692</td>\n",
       "      <td>-73.995197</td>\n",
       "      <td>40.731588</td>\n",
       "      <td>1</td>\n",
       "      <td>Train</td>\n",
       "      <td>16</td>\n",
       "      <td>1</td>\n",
       "      <td>1</td>\n",
       "      <td>Wednesday</td>\n",
       "    </tr>\n",
       "    <tr>\n",
       "      <th>49026</th>\n",
       "      <td>45.0</td>\n",
       "      <td>-73.971218</td>\n",
       "      <td>40.759837</td>\n",
       "      <td>-73.791723</td>\n",
       "      <td>40.644835</td>\n",
       "      <td>1</td>\n",
       "      <td>Train</td>\n",
       "      <td>15</td>\n",
       "      <td>5</td>\n",
       "      <td>10</td>\n",
       "      <td>Monday</td>\n",
       "    </tr>\n",
       "    <tr>\n",
       "      <th>118</th>\n",
       "      <td>32.5</td>\n",
       "      <td>-73.872862</td>\n",
       "      <td>40.774105</td>\n",
       "      <td>-73.970593</td>\n",
       "      <td>40.764393</td>\n",
       "      <td>2</td>\n",
       "      <td>Train</td>\n",
       "      <td>15</td>\n",
       "      <td>11</td>\n",
       "      <td>5</td>\n",
       "      <td>Friday</td>\n",
       "    </tr>\n",
       "    <tr>\n",
       "      <th>46090</th>\n",
       "      <td>12.5</td>\n",
       "      <td>-73.988796</td>\n",
       "      <td>40.736502</td>\n",
       "      <td>-73.956793</td>\n",
       "      <td>40.766549</td>\n",
       "      <td>1</td>\n",
       "      <td>Train</td>\n",
       "      <td>19</td>\n",
       "      <td>10</td>\n",
       "      <td>10</td>\n",
       "      <td>Wednesday</td>\n",
       "    </tr>\n",
       "    <tr>\n",
       "      <th>31430</th>\n",
       "      <td>6.9</td>\n",
       "      <td>-73.984922</td>\n",
       "      <td>40.768653</td>\n",
       "      <td>-73.966285</td>\n",
       "      <td>40.764993</td>\n",
       "      <td>1</td>\n",
       "      <td>Train</td>\n",
       "      <td>8</td>\n",
       "      <td>20</td>\n",
       "      <td>8</td>\n",
       "      <td>Friday</td>\n",
       "    </tr>\n",
       "  </tbody>\n",
       "</table>\n",
       "</div>"
      ],
      "text/plain": [
       "       amount  longitude_of_pickup  latitude_of_pickup  longitude_of_dropoff  latitude_of_dropoff  no_of_passenger Source  hour  dayOfTheMonth  month dayOfTheWeek\n",
       "15187     7.0           -73.982478           40.751692            -73.995197            40.731588                1  Train    16              1      1    Wednesday\n",
       "49026    45.0           -73.971218           40.759837            -73.791723            40.644835                1  Train    15              5     10       Monday\n",
       "118      32.5           -73.872862           40.774105            -73.970593            40.764393                2  Train    15             11      5       Friday\n",
       "46090    12.5           -73.988796           40.736502            -73.956793            40.766549                1  Train    19             10     10    Wednesday\n",
       "31430     6.9           -73.984922           40.768653            -73.966285            40.764993                1  Train     8             20      8       Friday"
      ]
     },
     "execution_count": 15,
     "metadata": {},
     "output_type": "execute_result"
    }
   ],
   "source": [
    "# Lets convert some of the \"continuous\" variables like dayOfTheWeek, month to \"cotegorical\" variables. It makes more sense.\n",
    "# You can check whether the dayOfTheWeek and month columns start from 0 or 1 by using describe()\n",
    "\n",
    "# Pandas considers: Monday=0, Sunday=6 (https://pandas.pydata.org/docs/reference/api/pandas.Series.dt.dayofweek.htmls)\n",
    "# Step 1: Create dayOfTheWeek dictionary\n",
    "dayOfTheWeek = {\n",
    "            0 : \"Monday\", \n",
    "            1 : \"Tuesday\", \n",
    "            2 : \"Wednesday\", \n",
    "            3 : \"Thursday\", \n",
    "            4 : \"Friday\",\n",
    "            5 : \"Saturday\", \n",
    "            6 : \"Sunday\"          \n",
    "         }\n",
    "\n",
    "# Step 2: Perform replacement\n",
    "fullRaw[\"dayOfTheWeek\"].replace(dayOfTheWeek, inplace = True)\n",
    "\n",
    "# Step 3: Vaildate\n",
    "fullRaw.head()\n"
   ]
  },
  {
   "cell_type": "code",
   "execution_count": null,
   "metadata": {
    "scrolled": true
   },
   "outputs": [],
   "source": []
  },
  {
   "cell_type": "code",
   "execution_count": 16,
   "metadata": {},
   "outputs": [
    {
     "data": {
      "text/html": [
       "<div>\n",
       "<style scoped>\n",
       "    .dataframe tbody tr th:only-of-type {\n",
       "        vertical-align: middle;\n",
       "    }\n",
       "\n",
       "    .dataframe tbody tr th {\n",
       "        vertical-align: top;\n",
       "    }\n",
       "\n",
       "    .dataframe thead th {\n",
       "        text-align: right;\n",
       "    }\n",
       "</style>\n",
       "<table border=\"1\" class=\"dataframe\">\n",
       "  <thead>\n",
       "    <tr style=\"text-align: right;\">\n",
       "      <th></th>\n",
       "      <th>amount</th>\n",
       "      <th>longitude_of_pickup</th>\n",
       "      <th>latitude_of_pickup</th>\n",
       "      <th>longitude_of_dropoff</th>\n",
       "      <th>latitude_of_dropoff</th>\n",
       "      <th>no_of_passenger</th>\n",
       "      <th>Source</th>\n",
       "      <th>hour</th>\n",
       "      <th>dayOfTheMonth</th>\n",
       "      <th>month</th>\n",
       "      <th>dayOfTheWeek</th>\n",
       "    </tr>\n",
       "  </thead>\n",
       "  <tbody>\n",
       "    <tr>\n",
       "      <th>15187</th>\n",
       "      <td>7.0</td>\n",
       "      <td>-73.982478</td>\n",
       "      <td>40.751692</td>\n",
       "      <td>-73.995197</td>\n",
       "      <td>40.731588</td>\n",
       "      <td>1</td>\n",
       "      <td>Train</td>\n",
       "      <td>16</td>\n",
       "      <td>1</td>\n",
       "      <td>Jan</td>\n",
       "      <td>Wednesday</td>\n",
       "    </tr>\n",
       "    <tr>\n",
       "      <th>49026</th>\n",
       "      <td>45.0</td>\n",
       "      <td>-73.971218</td>\n",
       "      <td>40.759837</td>\n",
       "      <td>-73.791723</td>\n",
       "      <td>40.644835</td>\n",
       "      <td>1</td>\n",
       "      <td>Train</td>\n",
       "      <td>15</td>\n",
       "      <td>5</td>\n",
       "      <td>Oct</td>\n",
       "      <td>Monday</td>\n",
       "    </tr>\n",
       "    <tr>\n",
       "      <th>118</th>\n",
       "      <td>32.5</td>\n",
       "      <td>-73.872862</td>\n",
       "      <td>40.774105</td>\n",
       "      <td>-73.970593</td>\n",
       "      <td>40.764393</td>\n",
       "      <td>2</td>\n",
       "      <td>Train</td>\n",
       "      <td>15</td>\n",
       "      <td>11</td>\n",
       "      <td>May</td>\n",
       "      <td>Friday</td>\n",
       "    </tr>\n",
       "    <tr>\n",
       "      <th>46090</th>\n",
       "      <td>12.5</td>\n",
       "      <td>-73.988796</td>\n",
       "      <td>40.736502</td>\n",
       "      <td>-73.956793</td>\n",
       "      <td>40.766549</td>\n",
       "      <td>1</td>\n",
       "      <td>Train</td>\n",
       "      <td>19</td>\n",
       "      <td>10</td>\n",
       "      <td>Oct</td>\n",
       "      <td>Wednesday</td>\n",
       "    </tr>\n",
       "    <tr>\n",
       "      <th>31430</th>\n",
       "      <td>6.9</td>\n",
       "      <td>-73.984922</td>\n",
       "      <td>40.768653</td>\n",
       "      <td>-73.966285</td>\n",
       "      <td>40.764993</td>\n",
       "      <td>1</td>\n",
       "      <td>Train</td>\n",
       "      <td>8</td>\n",
       "      <td>20</td>\n",
       "      <td>Aug</td>\n",
       "      <td>Friday</td>\n",
       "    </tr>\n",
       "  </tbody>\n",
       "</table>\n",
       "</div>"
      ],
      "text/plain": [
       "       amount  longitude_of_pickup  latitude_of_pickup  longitude_of_dropoff  latitude_of_dropoff  no_of_passenger Source  hour  dayOfTheMonth month dayOfTheWeek\n",
       "15187     7.0           -73.982478           40.751692            -73.995197            40.731588                1  Train    16              1   Jan    Wednesday\n",
       "49026    45.0           -73.971218           40.759837            -73.791723            40.644835                1  Train    15              5   Oct       Monday\n",
       "118      32.5           -73.872862           40.774105            -73.970593            40.764393                2  Train    15             11   May       Friday\n",
       "46090    12.5           -73.988796           40.736502            -73.956793            40.766549                1  Train    19             10   Oct    Wednesday\n",
       "31430     6.9           -73.984922           40.768653            -73.966285            40.764993                1  Train     8             20   Aug       Friday"
      ]
     },
     "execution_count": 16,
     "metadata": {},
     "output_type": "execute_result"
    }
   ],
   "source": [
    "# Step 1: Create month dictionary\n",
    "month = {\n",
    "            1 : \"Jan\", \n",
    "            2 : \"Feb\", \n",
    "            3 : \"Mar\", \n",
    "            4 : \"Apr\", \n",
    "            5 : \"May\",\n",
    "            6 : \"Jun\", \n",
    "            7 : \"Jul\",\n",
    "            8 : \"Aug\", \n",
    "            9 : \"Sep\", \n",
    "            10 : \"Oct\", \n",
    "            11 : \"Nov\", \n",
    "            12 : \"Dec\"\n",
    "         }\n",
    "\n",
    "# Step 2: Perform replacement\n",
    "fullRaw[\"month\"].replace(month, inplace = True)\n",
    "\n",
    "# Step 3: Vaildate\n",
    "fullRaw.head()"
   ]
  },
  {
   "cell_type": "code",
   "execution_count": null,
   "metadata": {},
   "outputs": [],
   "source": []
  },
  {
   "cell_type": "markdown",
   "metadata": {},
   "source": [
    "#### 2. Extract appropriate distance travelled using latitude-longitude informtion using \"Haversine\" distance formula"
   ]
  },
  {
   "cell_type": "code",
   "execution_count": 17,
   "metadata": {},
   "outputs": [
    {
     "data": {
      "text/html": [
       "<div>\n",
       "<style scoped>\n",
       "    .dataframe tbody tr th:only-of-type {\n",
       "        vertical-align: middle;\n",
       "    }\n",
       "\n",
       "    .dataframe tbody tr th {\n",
       "        vertical-align: top;\n",
       "    }\n",
       "\n",
       "    .dataframe thead th {\n",
       "        text-align: right;\n",
       "    }\n",
       "</style>\n",
       "<table border=\"1\" class=\"dataframe\">\n",
       "  <thead>\n",
       "    <tr style=\"text-align: right;\">\n",
       "      <th></th>\n",
       "      <th>amount</th>\n",
       "      <th>longitude_of_pickup</th>\n",
       "      <th>latitude_of_pickup</th>\n",
       "      <th>longitude_of_dropoff</th>\n",
       "      <th>latitude_of_dropoff</th>\n",
       "      <th>no_of_passenger</th>\n",
       "      <th>Source</th>\n",
       "      <th>hour</th>\n",
       "      <th>dayOfTheMonth</th>\n",
       "      <th>month</th>\n",
       "      <th>dayOfTheWeek</th>\n",
       "      <th>distance</th>\n",
       "    </tr>\n",
       "  </thead>\n",
       "  <tbody>\n",
       "    <tr>\n",
       "      <th>15187</th>\n",
       "      <td>7.0</td>\n",
       "      <td>-73.982478</td>\n",
       "      <td>40.751692</td>\n",
       "      <td>-73.995197</td>\n",
       "      <td>40.731588</td>\n",
       "      <td>1</td>\n",
       "      <td>Train</td>\n",
       "      <td>16</td>\n",
       "      <td>1</td>\n",
       "      <td>Jan</td>\n",
       "      <td>Wednesday</td>\n",
       "      <td>2.477458</td>\n",
       "    </tr>\n",
       "    <tr>\n",
       "      <th>49026</th>\n",
       "      <td>45.0</td>\n",
       "      <td>-73.971218</td>\n",
       "      <td>40.759837</td>\n",
       "      <td>-73.791723</td>\n",
       "      <td>40.644835</td>\n",
       "      <td>1</td>\n",
       "      <td>Train</td>\n",
       "      <td>15</td>\n",
       "      <td>5</td>\n",
       "      <td>Oct</td>\n",
       "      <td>Monday</td>\n",
       "      <td>19.798448</td>\n",
       "    </tr>\n",
       "    <tr>\n",
       "      <th>118</th>\n",
       "      <td>32.5</td>\n",
       "      <td>-73.872862</td>\n",
       "      <td>40.774105</td>\n",
       "      <td>-73.970593</td>\n",
       "      <td>40.764393</td>\n",
       "      <td>2</td>\n",
       "      <td>Train</td>\n",
       "      <td>15</td>\n",
       "      <td>11</td>\n",
       "      <td>May</td>\n",
       "      <td>Friday</td>\n",
       "      <td>8.295557</td>\n",
       "    </tr>\n",
       "    <tr>\n",
       "      <th>46090</th>\n",
       "      <td>12.5</td>\n",
       "      <td>-73.988796</td>\n",
       "      <td>40.736502</td>\n",
       "      <td>-73.956793</td>\n",
       "      <td>40.766549</td>\n",
       "      <td>1</td>\n",
       "      <td>Train</td>\n",
       "      <td>19</td>\n",
       "      <td>10</td>\n",
       "      <td>Oct</td>\n",
       "      <td>Wednesday</td>\n",
       "      <td>4.290327</td>\n",
       "    </tr>\n",
       "    <tr>\n",
       "      <th>31430</th>\n",
       "      <td>6.9</td>\n",
       "      <td>-73.984922</td>\n",
       "      <td>40.768653</td>\n",
       "      <td>-73.966285</td>\n",
       "      <td>40.764993</td>\n",
       "      <td>1</td>\n",
       "      <td>Train</td>\n",
       "      <td>8</td>\n",
       "      <td>20</td>\n",
       "      <td>Aug</td>\n",
       "      <td>Friday</td>\n",
       "      <td>1.620422</td>\n",
       "    </tr>\n",
       "  </tbody>\n",
       "</table>\n",
       "</div>"
      ],
      "text/plain": [
       "       amount  longitude_of_pickup  latitude_of_pickup  longitude_of_dropoff  latitude_of_dropoff  no_of_passenger Source  hour  dayOfTheMonth month dayOfTheWeek   distance\n",
       "15187     7.0           -73.982478           40.751692            -73.995197            40.731588                1  Train    16              1   Jan    Wednesday   2.477458\n",
       "49026    45.0           -73.971218           40.759837            -73.791723            40.644835                1  Train    15              5   Oct       Monday  19.798448\n",
       "118      32.5           -73.872862           40.774105            -73.970593            40.764393                2  Train    15             11   May       Friday   8.295557\n",
       "46090    12.5           -73.988796           40.736502            -73.956793            40.766549                1  Train    19             10   Oct    Wednesday   4.290327\n",
       "31430     6.9           -73.984922           40.768653            -73.966285            40.764993                1  Train     8             20   Aug       Friday   1.620422"
      ]
     },
     "execution_count": 17,
     "metadata": {},
     "output_type": "execute_result"
    }
   ],
   "source": [
    "# https://stackoverflow.com/questions/29545704/fast-haversine-approximation-python-pandas\n",
    "\n",
    "def haversine_np(lon1, lat1, lon2, lat2):\n",
    "    \"\"\"\n",
    "    Calculate the great circle distance between two points\n",
    "    on the earth (specified in decimal degrees)\n",
    "\n",
    "    All args must be of equal length.    \n",
    "\n",
    "    \"\"\"\n",
    "    lon1, lat1, lon2, lat2 = map(np.radians, [lon1, lat1, lon2, lat2])\n",
    "\n",
    "    dlon = lon2 - lon1\n",
    "    dlat = lat2 - lat1\n",
    "\n",
    "    a = np.sin(dlat/2.0)**2 + np.cos(lat1) * np.cos(lat2) * np.sin(dlon/2.0)**2\n",
    "\n",
    "    c = 2 * np.arcsin(np.sqrt(a))\n",
    "    km = 6367 * c # 6367 is radius of earth in kilometers.\n",
    "    return km\n",
    "\n",
    "fullRaw[\"distance\"] = haversine_np(fullRaw[\"longitude_of_pickup\"], fullRaw[\"latitude_of_pickup\"],\n",
    "                                   fullRaw[\"longitude_of_dropoff\"], fullRaw[\"latitude_of_dropoff\"])\n",
    "\n",
    "fullRaw.head()"
   ]
  },
  {
   "cell_type": "code",
   "execution_count": null,
   "metadata": {},
   "outputs": [],
   "source": []
  },
  {
   "cell_type": "code",
   "execution_count": 18,
   "metadata": {},
   "outputs": [
    {
     "data": {
      "text/html": [
       "<div>\n",
       "<style scoped>\n",
       "    .dataframe tbody tr th:only-of-type {\n",
       "        vertical-align: middle;\n",
       "    }\n",
       "\n",
       "    .dataframe tbody tr th {\n",
       "        vertical-align: top;\n",
       "    }\n",
       "\n",
       "    .dataframe thead th {\n",
       "        text-align: right;\n",
       "    }\n",
       "</style>\n",
       "<table border=\"1\" class=\"dataframe\">\n",
       "  <thead>\n",
       "    <tr style=\"text-align: right;\">\n",
       "      <th></th>\n",
       "      <th>count</th>\n",
       "      <th>mean</th>\n",
       "      <th>std</th>\n",
       "      <th>min</th>\n",
       "      <th>25%</th>\n",
       "      <th>50%</th>\n",
       "      <th>75%</th>\n",
       "      <th>max</th>\n",
       "    </tr>\n",
       "  </thead>\n",
       "  <tbody>\n",
       "    <tr>\n",
       "      <th>amount</th>\n",
       "      <td>50000.0</td>\n",
       "      <td>11.364171</td>\n",
       "      <td>9.685557</td>\n",
       "      <td>-5.000000</td>\n",
       "      <td>6.000000</td>\n",
       "      <td>8.500000</td>\n",
       "      <td>12.500000</td>\n",
       "      <td>200.000000</td>\n",
       "    </tr>\n",
       "    <tr>\n",
       "      <th>longitude_of_pickup</th>\n",
       "      <td>50000.0</td>\n",
       "      <td>-72.509756</td>\n",
       "      <td>10.393860</td>\n",
       "      <td>-75.423848</td>\n",
       "      <td>-73.992062</td>\n",
       "      <td>-73.981840</td>\n",
       "      <td>-73.967148</td>\n",
       "      <td>40.783472</td>\n",
       "    </tr>\n",
       "    <tr>\n",
       "      <th>latitude_of_pickup</th>\n",
       "      <td>50000.0</td>\n",
       "      <td>39.933759</td>\n",
       "      <td>6.224857</td>\n",
       "      <td>-74.006893</td>\n",
       "      <td>40.734880</td>\n",
       "      <td>40.752678</td>\n",
       "      <td>40.767360</td>\n",
       "      <td>401.083332</td>\n",
       "    </tr>\n",
       "    <tr>\n",
       "      <th>longitude_of_dropoff</th>\n",
       "      <td>50000.0</td>\n",
       "      <td>-72.504616</td>\n",
       "      <td>10.407570</td>\n",
       "      <td>-84.654241</td>\n",
       "      <td>-73.991152</td>\n",
       "      <td>-73.980082</td>\n",
       "      <td>-73.963584</td>\n",
       "      <td>40.851027</td>\n",
       "    </tr>\n",
       "    <tr>\n",
       "      <th>latitude_of_dropoff</th>\n",
       "      <td>50000.0</td>\n",
       "      <td>39.926251</td>\n",
       "      <td>6.014737</td>\n",
       "      <td>-74.006377</td>\n",
       "      <td>40.734372</td>\n",
       "      <td>40.753372</td>\n",
       "      <td>40.768167</td>\n",
       "      <td>43.415190</td>\n",
       "    </tr>\n",
       "    <tr>\n",
       "      <th>no_of_passenger</th>\n",
       "      <td>50000.0</td>\n",
       "      <td>1.667840</td>\n",
       "      <td>1.289195</td>\n",
       "      <td>0.000000</td>\n",
       "      <td>1.000000</td>\n",
       "      <td>1.000000</td>\n",
       "      <td>2.000000</td>\n",
       "      <td>6.000000</td>\n",
       "    </tr>\n",
       "    <tr>\n",
       "      <th>hour</th>\n",
       "      <td>50000.0</td>\n",
       "      <td>13.489080</td>\n",
       "      <td>6.506935</td>\n",
       "      <td>0.000000</td>\n",
       "      <td>9.000000</td>\n",
       "      <td>14.000000</td>\n",
       "      <td>19.000000</td>\n",
       "      <td>23.000000</td>\n",
       "    </tr>\n",
       "    <tr>\n",
       "      <th>dayOfTheMonth</th>\n",
       "      <td>50000.0</td>\n",
       "      <td>15.672040</td>\n",
       "      <td>8.660789</td>\n",
       "      <td>1.000000</td>\n",
       "      <td>8.000000</td>\n",
       "      <td>16.000000</td>\n",
       "      <td>23.000000</td>\n",
       "      <td>31.000000</td>\n",
       "    </tr>\n",
       "    <tr>\n",
       "      <th>distance</th>\n",
       "      <td>50000.0</td>\n",
       "      <td>18.497326</td>\n",
       "      <td>355.341070</td>\n",
       "      <td>0.000000</td>\n",
       "      <td>1.222378</td>\n",
       "      <td>2.118783</td>\n",
       "      <td>3.893124</td>\n",
       "      <td>8662.376766</td>\n",
       "    </tr>\n",
       "  </tbody>\n",
       "</table>\n",
       "</div>"
      ],
      "text/plain": [
       "                        count       mean         std        min        25%        50%        75%          max\n",
       "amount                50000.0  11.364171    9.685557  -5.000000   6.000000   8.500000  12.500000   200.000000\n",
       "longitude_of_pickup   50000.0 -72.509756   10.393860 -75.423848 -73.992062 -73.981840 -73.967148    40.783472\n",
       "latitude_of_pickup    50000.0  39.933759    6.224857 -74.006893  40.734880  40.752678  40.767360   401.083332\n",
       "longitude_of_dropoff  50000.0 -72.504616   10.407570 -84.654241 -73.991152 -73.980082 -73.963584    40.851027\n",
       "latitude_of_dropoff   50000.0  39.926251    6.014737 -74.006377  40.734372  40.753372  40.768167    43.415190\n",
       "no_of_passenger       50000.0   1.667840    1.289195   0.000000   1.000000   1.000000   2.000000     6.000000\n",
       "hour                  50000.0  13.489080    6.506935   0.000000   9.000000  14.000000  19.000000    23.000000\n",
       "dayOfTheMonth         50000.0  15.672040    8.660789   1.000000   8.000000  16.000000  23.000000    31.000000\n",
       "distance              50000.0  18.497326  355.341070   0.000000   1.222378   2.118783   3.893124  8662.376766"
      ]
     },
     "execution_count": 18,
     "metadata": {},
     "output_type": "execute_result"
    }
   ],
   "source": [
    "# Lets do a simple check of what range is currently present in the various variables\n",
    "fullRaw.describe().transpose()"
   ]
  },
  {
   "cell_type": "code",
   "execution_count": 19,
   "metadata": {},
   "outputs": [
    {
     "name": "stdout",
     "output_type": "stream",
     "text": [
      "count    50000.000000\n",
      "mean        11.364171\n",
      "std          9.685557\n",
      "min         -5.000000\n",
      "25%          6.000000\n",
      "50%          8.500000\n",
      "75%         12.500000\n",
      "max        200.000000\n",
      "Name: amount, dtype: float64\n",
      "count    49990.000000\n",
      "mean        11.366813\n",
      "std          9.684697\n",
      "min          2.500000\n",
      "25%          6.000000\n",
      "50%          8.500000\n",
      "75%         12.500000\n",
      "max        200.000000\n",
      "Name: amount, dtype: float64\n"
     ]
    }
   ],
   "source": [
    "# A. Amount < 2.5 as the minimum fare in NYC is $2.5\n",
    "\n",
    "print(fullRaw[\"amount\"].describe())\n",
    "fullRaw = fullRaw[fullRaw[\"amount\"] >= 2.5]\n",
    "print(fullRaw[\"amount\"].describe())"
   ]
  },
  {
   "cell_type": "code",
   "execution_count": 20,
   "metadata": {},
   "outputs": [
    {
     "name": "stdout",
     "output_type": "stream",
     "text": [
      "count    49990.000000\n",
      "mean        18.328050\n",
      "std        353.277253\n",
      "min          0.000000\n",
      "25%          1.222799\n",
      "50%          2.118908\n",
      "75%          3.893413\n",
      "max       8662.376766\n",
      "Name: distance, dtype: float64\n",
      "count    40925.000000\n",
      "mean         3.919186\n",
      "std          4.491231\n",
      "min          1.000150\n",
      "25%          1.662446\n",
      "50%          2.576882\n",
      "75%          4.490724\n",
      "max        129.868894\n",
      "Name: distance, dtype: float64\n"
     ]
    }
   ],
   "source": [
    "# B. Trips with travel distance greater than or equal to 1, and less than 130Kms.\n",
    "\n",
    "print(fullRaw[\"distance\"].describe())\n",
    "fullRaw = fullRaw[(fullRaw[\"distance\"] >= 1) & (fullRaw[\"distance\"] <= 130)]\n",
    "print(fullRaw[\"distance\"].describe())"
   ]
  },
  {
   "cell_type": "code",
   "execution_count": 21,
   "metadata": {},
   "outputs": [
    {
     "data": {
      "text/plain": [
       "(40925, 12)"
      ]
     },
     "execution_count": 21,
     "metadata": {},
     "output_type": "execute_result"
    }
   ],
   "source": [
    "fullRaw.shape"
   ]
  },
  {
   "cell_type": "markdown",
   "metadata": {},
   "source": [
    "### EDA\n",
    "\n",
    "1. Summarize continuous and categorical data using describe()\n",
    "2. Data distribution of continuous and categorical data (Univariate Analysis)\n",
    "3. Impact analysis of continuous and categorical data (Bivariate Analysis)"
   ]
  },
  {
   "cell_type": "markdown",
   "metadata": {},
   "source": [
    "Before we dive into EDA, its important to ensure we conduct EDA on trainset and draw inferences based on it (and NOT on complete data - fullRaw)"
   ]
  },
  {
   "cell_type": "code",
   "execution_count": 22,
   "metadata": {},
   "outputs": [],
   "source": [
    "trainRaw = fullRaw[fullRaw[\"Source\"] == \"Train\"].copy()"
   ]
  },
  {
   "cell_type": "markdown",
   "metadata": {},
   "source": [
    "#### 1. Summarize continuous and categorical data using describe()"
   ]
  },
  {
   "cell_type": "code",
   "execution_count": 23,
   "metadata": {},
   "outputs": [
    {
     "data": {
      "text/html": [
       "<div>\n",
       "<style scoped>\n",
       "    .dataframe tbody tr th:only-of-type {\n",
       "        vertical-align: middle;\n",
       "    }\n",
       "\n",
       "    .dataframe tbody tr th {\n",
       "        vertical-align: top;\n",
       "    }\n",
       "\n",
       "    .dataframe thead th {\n",
       "        text-align: right;\n",
       "    }\n",
       "</style>\n",
       "<table border=\"1\" class=\"dataframe\">\n",
       "  <thead>\n",
       "    <tr style=\"text-align: right;\">\n",
       "      <th></th>\n",
       "      <th>count</th>\n",
       "      <th>mean</th>\n",
       "      <th>std</th>\n",
       "      <th>min</th>\n",
       "      <th>25%</th>\n",
       "      <th>50%</th>\n",
       "      <th>75%</th>\n",
       "      <th>max</th>\n",
       "    </tr>\n",
       "  </thead>\n",
       "  <tbody>\n",
       "    <tr>\n",
       "      <th>amount</th>\n",
       "      <td>30698.0</td>\n",
       "      <td>12.412680</td>\n",
       "      <td>9.660747</td>\n",
       "      <td>2.500000</td>\n",
       "      <td>6.900000</td>\n",
       "      <td>9.300000</td>\n",
       "      <td>13.700000</td>\n",
       "      <td>165.000000</td>\n",
       "    </tr>\n",
       "    <tr>\n",
       "      <th>longitude_of_pickup</th>\n",
       "      <td>30698.0</td>\n",
       "      <td>-73.931623</td>\n",
       "      <td>2.212216</td>\n",
       "      <td>-75.423848</td>\n",
       "      <td>-73.992614</td>\n",
       "      <td>-73.982197</td>\n",
       "      <td>-73.968345</td>\n",
       "      <td>40.769110</td>\n",
       "    </tr>\n",
       "    <tr>\n",
       "      <th>latitude_of_pickup</th>\n",
       "      <td>30698.0</td>\n",
       "      <td>40.719708</td>\n",
       "      <td>2.999809</td>\n",
       "      <td>-74.006893</td>\n",
       "      <td>40.735330</td>\n",
       "      <td>40.752834</td>\n",
       "      <td>40.767932</td>\n",
       "      <td>401.083332</td>\n",
       "    </tr>\n",
       "    <tr>\n",
       "      <th>longitude_of_dropoff</th>\n",
       "      <td>30698.0</td>\n",
       "      <td>-73.930085</td>\n",
       "      <td>2.212469</td>\n",
       "      <td>-75.354559</td>\n",
       "      <td>-73.991407</td>\n",
       "      <td>-73.980396</td>\n",
       "      <td>-73.964484</td>\n",
       "      <td>40.851027</td>\n",
       "    </tr>\n",
       "    <tr>\n",
       "      <th>latitude_of_dropoff</th>\n",
       "      <td>30698.0</td>\n",
       "      <td>40.708570</td>\n",
       "      <td>2.183910</td>\n",
       "      <td>-74.001000</td>\n",
       "      <td>40.734809</td>\n",
       "      <td>40.753652</td>\n",
       "      <td>40.768811</td>\n",
       "      <td>42.168717</td>\n",
       "    </tr>\n",
       "    <tr>\n",
       "      <th>no_of_passenger</th>\n",
       "      <td>30698.0</td>\n",
       "      <td>1.672650</td>\n",
       "      <td>1.295802</td>\n",
       "      <td>0.000000</td>\n",
       "      <td>1.000000</td>\n",
       "      <td>1.000000</td>\n",
       "      <td>2.000000</td>\n",
       "      <td>6.000000</td>\n",
       "    </tr>\n",
       "    <tr>\n",
       "      <th>hour</th>\n",
       "      <td>30698.0</td>\n",
       "      <td>13.481269</td>\n",
       "      <td>6.592455</td>\n",
       "      <td>0.000000</td>\n",
       "      <td>9.000000</td>\n",
       "      <td>14.000000</td>\n",
       "      <td>19.000000</td>\n",
       "      <td>23.000000</td>\n",
       "    </tr>\n",
       "    <tr>\n",
       "      <th>dayOfTheMonth</th>\n",
       "      <td>30698.0</td>\n",
       "      <td>15.613656</td>\n",
       "      <td>8.657532</td>\n",
       "      <td>1.000000</td>\n",
       "      <td>8.000000</td>\n",
       "      <td>16.000000</td>\n",
       "      <td>23.000000</td>\n",
       "      <td>31.000000</td>\n",
       "    </tr>\n",
       "    <tr>\n",
       "      <th>distance</th>\n",
       "      <td>30698.0</td>\n",
       "      <td>3.929842</td>\n",
       "      <td>4.518163</td>\n",
       "      <td>1.000150</td>\n",
       "      <td>1.663249</td>\n",
       "      <td>2.586023</td>\n",
       "      <td>4.510055</td>\n",
       "      <td>129.868894</td>\n",
       "    </tr>\n",
       "  </tbody>\n",
       "</table>\n",
       "</div>"
      ],
      "text/plain": [
       "                        count       mean       std        min        25%        50%        75%         max\n",
       "amount                30698.0  12.412680  9.660747   2.500000   6.900000   9.300000  13.700000  165.000000\n",
       "longitude_of_pickup   30698.0 -73.931623  2.212216 -75.423848 -73.992614 -73.982197 -73.968345   40.769110\n",
       "latitude_of_pickup    30698.0  40.719708  2.999809 -74.006893  40.735330  40.752834  40.767932  401.083332\n",
       "longitude_of_dropoff  30698.0 -73.930085  2.212469 -75.354559 -73.991407 -73.980396 -73.964484   40.851027\n",
       "latitude_of_dropoff   30698.0  40.708570  2.183910 -74.001000  40.734809  40.753652  40.768811   42.168717\n",
       "no_of_passenger       30698.0   1.672650  1.295802   0.000000   1.000000   1.000000   2.000000    6.000000\n",
       "hour                  30698.0  13.481269  6.592455   0.000000   9.000000  14.000000  19.000000   23.000000\n",
       "dayOfTheMonth         30698.0  15.613656  8.657532   1.000000   8.000000  16.000000  23.000000   31.000000\n",
       "distance              30698.0   3.929842  4.518163   1.000150   1.663249   2.586023   4.510055  129.868894"
      ]
     },
     "execution_count": 23,
     "metadata": {},
     "output_type": "execute_result"
    }
   ],
   "source": [
    "# Continuous Variables\n",
    "trainRaw.describe().transpose()"
   ]
  },
  {
   "cell_type": "code",
   "execution_count": 24,
   "metadata": {},
   "outputs": [
    {
     "data": {
      "text/html": [
       "<div>\n",
       "<style scoped>\n",
       "    .dataframe tbody tr th:only-of-type {\n",
       "        vertical-align: middle;\n",
       "    }\n",
       "\n",
       "    .dataframe tbody tr th {\n",
       "        vertical-align: top;\n",
       "    }\n",
       "\n",
       "    .dataframe thead th {\n",
       "        text-align: right;\n",
       "    }\n",
       "</style>\n",
       "<table border=\"1\" class=\"dataframe\">\n",
       "  <thead>\n",
       "    <tr style=\"text-align: right;\">\n",
       "      <th></th>\n",
       "      <th>Source</th>\n",
       "      <th>month</th>\n",
       "      <th>dayOfTheWeek</th>\n",
       "    </tr>\n",
       "  </thead>\n",
       "  <tbody>\n",
       "    <tr>\n",
       "      <th>count</th>\n",
       "      <td>30698</td>\n",
       "      <td>30698</td>\n",
       "      <td>30698</td>\n",
       "    </tr>\n",
       "    <tr>\n",
       "      <th>unique</th>\n",
       "      <td>1</td>\n",
       "      <td>12</td>\n",
       "      <td>7</td>\n",
       "    </tr>\n",
       "    <tr>\n",
       "      <th>top</th>\n",
       "      <td>Train</td>\n",
       "      <td>May</td>\n",
       "      <td>Saturday</td>\n",
       "    </tr>\n",
       "    <tr>\n",
       "      <th>freq</th>\n",
       "      <td>30698</td>\n",
       "      <td>2879</td>\n",
       "      <td>4789</td>\n",
       "    </tr>\n",
       "  </tbody>\n",
       "</table>\n",
       "</div>"
      ],
      "text/plain": [
       "       Source  month dayOfTheWeek\n",
       "count   30698  30698        30698\n",
       "unique      1     12            7\n",
       "top     Train    May     Saturday\n",
       "freq    30698   2879         4789"
      ]
     },
     "execution_count": 24,
     "metadata": {},
     "output_type": "execute_result"
    }
   ],
   "source": [
    "# Categorical Variables\n",
    "trainRaw.describe(include = object)"
   ]
  },
  {
   "cell_type": "code",
   "execution_count": null,
   "metadata": {},
   "outputs": [],
   "source": []
  },
  {
   "cell_type": "markdown",
   "metadata": {},
   "source": [
    "#### 2. Data distribution of continuous and categorical data (Univariate Analysis)"
   ]
  },
  {
   "cell_type": "code",
   "execution_count": 25,
   "metadata": {},
   "outputs": [
    {
     "data": {
      "image/png": "[encoded data removed]",
      "text/plain": [
       "<Figure size 1800x1080 with 9 Axes>"
      ]
     },
     "metadata": {
      "needs_background": "light"
     },
     "output_type": "display_data"
    }
   ],
   "source": [
    "# Continuous Variables Plot\n",
    "plt.rcParams['figure.figsize'] = [25,15] # Width, Height\n",
    "continuousVars = trainRaw.columns[trainRaw.dtypes != object]\n",
    "\n",
    "trainRaw[continuousVars].hist(xrot = 20) # We are using pandas hist() method for multiple histograms in one line of code\n",
    "\n",
    "# Adjust the subplots (so that they dont overlap)\n",
    "plt.tight_layout()\n"
   ]
  },
  {
   "cell_type": "markdown",
   "metadata": {},
   "source": [
    "**no_of_passenger:** There are hardly trips with more than 2 people in the cabs.\n",
    "\n",
    "**hour:** Evening-to-night traffic seems to be more."
   ]
  },
  {
   "cell_type": "code",
   "execution_count": null,
   "metadata": {},
   "outputs": [],
   "source": []
  },
  {
   "cell_type": "code",
   "execution_count": 26,
   "metadata": {},
   "outputs": [
    {
     "data": {
      "image/png": "[encoded data removed]",
      "text/plain": [
       "<Figure size 1440x360 with 3 Axes>"
      ]
     },
     "metadata": {
      "needs_background": "light"
     },
     "output_type": "display_data"
    }
   ],
   "source": [
    "# Categorical Variables Plot\n",
    "categoricalVars = trainRaw.columns[trainRaw.dtypes == object]\n",
    "fig, ax = plt.subplots(1, 3, figsize = [20,5]) # Rows, Columns | figsize: Width, Height\n",
    "\n",
    "for variable, subplot in zip(categoricalVars, ax.flatten()): # ax.faltten() to get a flat array\n",
    "    \n",
    "    plot  = sns.countplot(x = trainRaw[variable], ax = subplot)\n",
    "    plot.set_xticklabels(plot.get_xticklabels(), rotation=45, fontsize = 15)\n",
    "    plot.set_xlabel(variable, fontsize = 15) # Increase the fontsize of variable names in each plot\n",
    "\n",
    "plt.tight_layout();\n",
    "\n",
    "# Since the two independent categorical variables are somewhat \"ordered\" in nature, it makes sense to see the barplots\n",
    "# with a some kind of sorted view like starting from Jan to Dec for month variable and \n",
    "# starting from Sunday to Saturday for dayOfTheweek variable. Lets try doing that."
   ]
  },
  {
   "cell_type": "code",
   "execution_count": 27,
   "metadata": {},
   "outputs": [
    {
     "data": {
      "image/png": "[encoded data removed]",
      "text/plain": [
       "<Figure size 720x360 with 1 Axes>"
      ]
     },
     "metadata": {
      "needs_background": "light"
     },
     "output_type": "display_data"
    }
   ],
   "source": [
    "# In case you would like the months and days of the week in a sorted bar plot, we would first \n",
    "# need to introduce some \"sorting\" logic into the dataframe. For a categorical variable, its done using pd.Categorical()\n",
    "\n",
    "# For \"month\" variable\n",
    "monthsOrderedList = [\"Jan\", \"Feb\", \"Mar\", \"Apr\", \"May\", \"Jun\", \"Jul\", \"Aug\", \"Sep\", \"Oct\", \"Nov\", \"Dec\"]\n",
    "trainRaw[\"month\"] = pd.Categorical(trainRaw[\"month\"], categories = monthsOrderedList, ordered = True)\n",
    "trainRaw.sort_values(\"month\", inplace = True)\n",
    "\n",
    "plt.rcParams['figure.figsize'] = [10,5] # Width, Height\n",
    "sns.countplot(x = trainRaw[\"month\"]);\n",
    "\n",
    "# Its shows a gradual decrease in the traffic count as the year progresses. Could be an indicator that \n",
    "# month be taken as a continuous variable, starting with Jan = 1 and Dec = 12."
   ]
  },
  {
   "cell_type": "code",
   "execution_count": 28,
   "metadata": {},
   "outputs": [
    {
     "data": {
      "image/png": "[encoded data removed]",
      "text/plain": [
       "<Figure size 720x360 with 1 Axes>"
      ]
     },
     "metadata": {
      "needs_background": "light"
     },
     "output_type": "display_data"
    }
   ],
   "source": [
    "# For \"dayOfTheWeek\" variable\n",
    "dayOfTheWeekOrderedList = [\"Sunday\", \"Monday\", \"Tuesday\", \"Wednesday\", \"Thursday\", \"Friday\", \"Saturday\"]\n",
    "trainRaw[\"dayOfTheWeek\"] = pd.Categorical(trainRaw[\"dayOfTheWeek\"], categories = dayOfTheWeekOrderedList, ordered = True)\n",
    "trainRaw.sort_values(\"dayOfTheWeek\", inplace = True)\n",
    "\n",
    "plt.rcParams['figure.figsize'] = [10,5] # Width, Height\n",
    "sns.countplot(x = trainRaw[\"dayOfTheWeek\"]);\n",
    "\n",
    "# Its shows a gradual increase in the traffic count as the week progresses. Could be an indicator that \n",
    "# dayOfTheWeek be taken as a continuous variable, starting with Sunday = 1 and Saturday = 7."
   ]
  },
  {
   "cell_type": "code",
   "execution_count": null,
   "metadata": {},
   "outputs": [],
   "source": []
  },
  {
   "cell_type": "markdown",
   "metadata": {},
   "source": [
    "#### 3. Impact analysis for continuous and categorical data (Bivariate Analysis)"
   ]
  },
  {
   "cell_type": "code",
   "execution_count": 29,
   "metadata": {},
   "outputs": [
    {
     "name": "stdout",
     "output_type": "stream",
     "text": [
      "Index(['amount', 'longitude_of_pickup', 'latitude_of_pickup', 'longitude_of_dropoff', 'latitude_of_dropoff', 'no_of_passenger', 'hour', 'dayOfTheMonth', 'month', 'dayOfTheWeek', 'distance'], dtype='object')\n"
     ]
    },
    {
     "data": {
      "text/plain": [
       "Index(['amount', 'no_of_passenger', 'hour', 'dayOfTheMonth', 'month', 'dayOfTheWeek', 'distance'], dtype='object')"
      ]
     },
     "execution_count": 29,
     "metadata": {},
     "output_type": "execute_result"
    }
   ],
   "source": [
    "continuousVars = trainRaw.columns[trainRaw.dtypes != object]\n",
    "print(continuousVars)\n",
    "\n",
    "selectedContinuousVars = continuousVars[~continuousVars.str.contains(\"lat|long\")]\n",
    "selectedContinuousVars"
   ]
  },
  {
   "cell_type": "code",
   "execution_count": 30,
   "metadata": {},
   "outputs": [
    {
     "data": {
      "text/plain": [
       "array([ True, False, False, False, False,  True,  True,  True,  True,\n",
       "        True,  True])"
      ]
     },
     "execution_count": 30,
     "metadata": {},
     "output_type": "execute_result"
    }
   ],
   "source": [
    "~continuousVars.str.contains(\"lat|long\")"
   ]
  },
  {
   "cell_type": "code",
   "execution_count": null,
   "metadata": {},
   "outputs": [],
   "source": []
  },
  {
   "cell_type": "code",
   "execution_count": null,
   "metadata": {},
   "outputs": [],
   "source": []
  },
  {
   "cell_type": "code",
   "execution_count": 31,
   "metadata": {},
   "outputs": [
    {
     "data": {
      "image/png": "[encoded data removed]",
      "text/plain": [
       "<Figure size 540x540 with 30 Axes>"
      ]
     },
     "metadata": {
      "needs_background": "light"
     },
     "output_type": "display_data"
    }
   ],
   "source": [
    "# Continuous Variables (Using Scatterplot)\n",
    "sns.pairplot(trainRaw[selectedContinuousVars], height = 1.5); # height (in inches) controls the figure size here. figsize doesnt work for some reason."
   ]
  },
  {
   "cell_type": "code",
   "execution_count": 32,
   "metadata": {},
   "outputs": [
    {
     "data": {
      "image/png": "[encoded data removed]",
      "text/plain": [
       "<Figure size 720x360 with 2 Axes>"
      ]
     },
     "metadata": {
      "needs_background": "light"
     },
     "output_type": "display_data"
    }
   ],
   "source": [
    "# Continuous Variables (Using Correlation Plot)\n",
    "\n",
    "# corrDf = trainRaw.corr() # With all indep cont. variables\n",
    "corrDf = trainRaw[selectedContinuousVars].corr() # With selected cont. variables\n",
    "\n",
    "plt.figure(figsize = (10,5)) # width, heigth\n",
    "sns.heatmap(corrDf, cmap='coolwarm_r', annot = True, vmin = -1, vmax = +1);\n",
    "# vmin and vmax define the range of correlation (-1 to +1), which then drives the \"intensity/magnitude\" of the color\n"
   ]
  },
  {
   "cell_type": "code",
   "execution_count": 33,
   "metadata": {},
   "outputs": [
    {
     "data": {
      "image/png": "[encoded data removed]",
      "text/plain": [
       "<Figure size 1080x360 with 3 Axes>"
      ]
     },
     "metadata": {
      "needs_background": "light"
     },
     "output_type": "display_data"
    }
   ],
   "source": [
    "# Categorical Variables\n",
    "\n",
    "fig, ax = plt.subplots(1, 3, figsize = (15,5)) \n",
    "\n",
    "for variable, subplot in zip(categoricalVars, ax.flatten()): # ax.faltten() to get a flat array\n",
    "    \n",
    "    plot  = sns.boxplot(y = trainRaw[\"amount\"], x = trainRaw[variable], ax = subplot)\n",
    "    plot.set_xticklabels(plot.get_xticklabels(), rotation=45)\n",
    "\n",
    "plt.tight_layout();"
   ]
  },
  {
   "cell_type": "markdown",
   "metadata": {},
   "source": [
    "The boxplot range is too small because of outliers, it would be nice if we can set the ylimit to a lower number like 25 or 30 and check again to see if there is any significant differences in the categories of the indep variables. "
   ]
  },
  {
   "cell_type": "code",
   "execution_count": 34,
   "metadata": {},
   "outputs": [
    {
     "data": {
      "image/png": "[encoded data removed]",
      "text/plain": [
       "<Figure size 1080x360 with 3 Axes>"
      ]
     },
     "metadata": {
      "needs_background": "light"
     },
     "output_type": "display_data"
    }
   ],
   "source": [
    "# Categorical Variables\n",
    "\n",
    "fig, ax = plt.subplots(1, 3, figsize = (15,5)) \n",
    "\n",
    "for variable, subplot in zip(categoricalVars, ax.flatten()): # ax.faltten() to get a flat array\n",
    "    \n",
    "    plot  = sns.boxplot(y = trainRaw[\"amount\"], x = trainRaw[variable], ax = subplot)\n",
    "    plot.set_xticklabels(plot.get_xticklabels(), rotation=45)\n",
    "    plot.set_ylim(0,25) # Add ylim to restrict the y axis (amount) between a certain range\n",
    "\n",
    "plt.tight_layout();"
   ]
  },
  {
   "cell_type": "code",
   "execution_count": null,
   "metadata": {},
   "outputs": [],
   "source": []
  },
  {
   "cell_type": "markdown",
   "metadata": {},
   "source": [
    "### DUMMY VARIABLE CREATION"
   ]
  },
  {
   "cell_type": "code",
   "execution_count": 35,
   "metadata": {},
   "outputs": [
    {
     "name": "stdout",
     "output_type": "stream",
     "text": [
      "(40925, 30)\n"
     ]
    },
    {
     "data": {
      "text/html": [
       "<div>\n",
       "<style scoped>\n",
       "    .dataframe tbody tr th:only-of-type {\n",
       "        vertical-align: middle;\n",
       "    }\n",
       "\n",
       "    .dataframe tbody tr th {\n",
       "        vertical-align: top;\n",
       "    }\n",
       "\n",
       "    .dataframe thead th {\n",
       "        text-align: right;\n",
       "    }\n",
       "</style>\n",
       "<table border=\"1\" class=\"dataframe\">\n",
       "  <thead>\n",
       "    <tr style=\"text-align: right;\">\n",
       "      <th></th>\n",
       "      <th>amount</th>\n",
       "      <th>longitude_of_pickup</th>\n",
       "      <th>latitude_of_pickup</th>\n",
       "      <th>longitude_of_dropoff</th>\n",
       "      <th>latitude_of_dropoff</th>\n",
       "      <th>no_of_passenger</th>\n",
       "      <th>hour</th>\n",
       "      <th>dayOfTheMonth</th>\n",
       "      <th>distance</th>\n",
       "      <th>Source_Test</th>\n",
       "      <th>Source_Train</th>\n",
       "      <th>month_Apr</th>\n",
       "      <th>month_Aug</th>\n",
       "      <th>month_Dec</th>\n",
       "      <th>month_Feb</th>\n",
       "      <th>month_Jan</th>\n",
       "      <th>month_Jul</th>\n",
       "      <th>month_Jun</th>\n",
       "      <th>month_Mar</th>\n",
       "      <th>month_May</th>\n",
       "      <th>month_Nov</th>\n",
       "      <th>month_Oct</th>\n",
       "      <th>month_Sep</th>\n",
       "      <th>dayOfTheWeek_Friday</th>\n",
       "      <th>dayOfTheWeek_Monday</th>\n",
       "      <th>dayOfTheWeek_Saturday</th>\n",
       "      <th>dayOfTheWeek_Sunday</th>\n",
       "      <th>dayOfTheWeek_Thursday</th>\n",
       "      <th>dayOfTheWeek_Tuesday</th>\n",
       "      <th>dayOfTheWeek_Wednesday</th>\n",
       "    </tr>\n",
       "  </thead>\n",
       "  <tbody>\n",
       "    <tr>\n",
       "      <th>15187</th>\n",
       "      <td>7.0</td>\n",
       "      <td>-73.982478</td>\n",
       "      <td>40.751692</td>\n",
       "      <td>-73.995197</td>\n",
       "      <td>40.731588</td>\n",
       "      <td>1</td>\n",
       "      <td>16</td>\n",
       "      <td>1</td>\n",
       "      <td>2.477458</td>\n",
       "      <td>0</td>\n",
       "      <td>1</td>\n",
       "      <td>0</td>\n",
       "      <td>0</td>\n",
       "      <td>0</td>\n",
       "      <td>0</td>\n",
       "      <td>1</td>\n",
       "      <td>0</td>\n",
       "      <td>0</td>\n",
       "      <td>0</td>\n",
       "      <td>0</td>\n",
       "      <td>0</td>\n",
       "      <td>0</td>\n",
       "      <td>0</td>\n",
       "      <td>0</td>\n",
       "      <td>0</td>\n",
       "      <td>0</td>\n",
       "      <td>0</td>\n",
       "      <td>0</td>\n",
       "      <td>0</td>\n",
       "      <td>1</td>\n",
       "    </tr>\n",
       "    <tr>\n",
       "      <th>49026</th>\n",
       "      <td>45.0</td>\n",
       "      <td>-73.971218</td>\n",
       "      <td>40.759837</td>\n",
       "      <td>-73.791723</td>\n",
       "      <td>40.644835</td>\n",
       "      <td>1</td>\n",
       "      <td>15</td>\n",
       "      <td>5</td>\n",
       "      <td>19.798448</td>\n",
       "      <td>0</td>\n",
       "      <td>1</td>\n",
       "      <td>0</td>\n",
       "      <td>0</td>\n",
       "      <td>0</td>\n",
       "      <td>0</td>\n",
       "      <td>0</td>\n",
       "      <td>0</td>\n",
       "      <td>0</td>\n",
       "      <td>0</td>\n",
       "      <td>0</td>\n",
       "      <td>0</td>\n",
       "      <td>1</td>\n",
       "      <td>0</td>\n",
       "      <td>0</td>\n",
       "      <td>1</td>\n",
       "      <td>0</td>\n",
       "      <td>0</td>\n",
       "      <td>0</td>\n",
       "      <td>0</td>\n",
       "      <td>0</td>\n",
       "    </tr>\n",
       "    <tr>\n",
       "      <th>118</th>\n",
       "      <td>32.5</td>\n",
       "      <td>-73.872862</td>\n",
       "      <td>40.774105</td>\n",
       "      <td>-73.970593</td>\n",
       "      <td>40.764393</td>\n",
       "      <td>2</td>\n",
       "      <td>15</td>\n",
       "      <td>11</td>\n",
       "      <td>8.295557</td>\n",
       "      <td>0</td>\n",
       "      <td>1</td>\n",
       "      <td>0</td>\n",
       "      <td>0</td>\n",
       "      <td>0</td>\n",
       "      <td>0</td>\n",
       "      <td>0</td>\n",
       "      <td>0</td>\n",
       "      <td>0</td>\n",
       "      <td>0</td>\n",
       "      <td>1</td>\n",
       "      <td>0</td>\n",
       "      <td>0</td>\n",
       "      <td>0</td>\n",
       "      <td>1</td>\n",
       "      <td>0</td>\n",
       "      <td>0</td>\n",
       "      <td>0</td>\n",
       "      <td>0</td>\n",
       "      <td>0</td>\n",
       "      <td>0</td>\n",
       "    </tr>\n",
       "    <tr>\n",
       "      <th>46090</th>\n",
       "      <td>12.5</td>\n",
       "      <td>-73.988796</td>\n",
       "      <td>40.736502</td>\n",
       "      <td>-73.956793</td>\n",
       "      <td>40.766549</td>\n",
       "      <td>1</td>\n",
       "      <td>19</td>\n",
       "      <td>10</td>\n",
       "      <td>4.290327</td>\n",
       "      <td>0</td>\n",
       "      <td>1</td>\n",
       "      <td>0</td>\n",
       "      <td>0</td>\n",
       "      <td>0</td>\n",
       "      <td>0</td>\n",
       "      <td>0</td>\n",
       "      <td>0</td>\n",
       "      <td>0</td>\n",
       "      <td>0</td>\n",
       "      <td>0</td>\n",
       "      <td>0</td>\n",
       "      <td>1</td>\n",
       "      <td>0</td>\n",
       "      <td>0</td>\n",
       "      <td>0</td>\n",
       "      <td>0</td>\n",
       "      <td>0</td>\n",
       "      <td>0</td>\n",
       "      <td>0</td>\n",
       "      <td>1</td>\n",
       "    </tr>\n",
       "    <tr>\n",
       "      <th>31430</th>\n",
       "      <td>6.9</td>\n",
       "      <td>-73.984922</td>\n",
       "      <td>40.768653</td>\n",
       "      <td>-73.966285</td>\n",
       "      <td>40.764993</td>\n",
       "      <td>1</td>\n",
       "      <td>8</td>\n",
       "      <td>20</td>\n",
       "      <td>1.620422</td>\n",
       "      <td>0</td>\n",
       "      <td>1</td>\n",
       "      <td>0</td>\n",
       "      <td>1</td>\n",
       "      <td>0</td>\n",
       "      <td>0</td>\n",
       "      <td>0</td>\n",
       "      <td>0</td>\n",
       "      <td>0</td>\n",
       "      <td>0</td>\n",
       "      <td>0</td>\n",
       "      <td>0</td>\n",
       "      <td>0</td>\n",
       "      <td>0</td>\n",
       "      <td>1</td>\n",
       "      <td>0</td>\n",
       "      <td>0</td>\n",
       "      <td>0</td>\n",
       "      <td>0</td>\n",
       "      <td>0</td>\n",
       "      <td>0</td>\n",
       "    </tr>\n",
       "  </tbody>\n",
       "</table>\n",
       "</div>"
      ],
      "text/plain": [
       "       amount  longitude_of_pickup  latitude_of_pickup  longitude_of_dropoff  latitude_of_dropoff  no_of_passenger  hour  dayOfTheMonth   distance  Source_Test  Source_Train  month_Apr  month_Aug  month_Dec  month_Feb  month_Jan  month_Jul  month_Jun  month_Mar  month_May  month_Nov  month_Oct  month_Sep  dayOfTheWeek_Friday  dayOfTheWeek_Monday  dayOfTheWeek_Saturday  dayOfTheWeek_Sunday  dayOfTheWeek_Thursday  dayOfTheWeek_Tuesday  dayOfTheWeek_Wednesday\n",
       "15187     7.0           -73.982478           40.751692            -73.995197            40.731588                1    16              1   2.477458            0             1          0          0          0          0          1          0          0          0          0          0          0          0                    0                    0                      0                    0                      0                     0                       1\n",
       "49026    45.0           -73.971218           40.759837            -73.791723            40.644835                1    15              5  19.798448            0             1          0          0          0          0          0          0          0          0          0          0          1          0                    0                    1                      0                    0                      0                     0                       0\n",
       "118      32.5           -73.872862           40.774105            -73.970593            40.764393                2    15             11   8.295557            0             1          0          0          0          0          0          0          0          0          1          0          0          0                    1                    0                      0                    0                      0                     0                       0\n",
       "46090    12.5           -73.988796           40.736502            -73.956793            40.766549                1    19             10   4.290327            0             1          0          0          0          0          0          0          0          0          0          0          1          0                    0                    0                      0                    0                      0                     0                       1\n",
       "31430     6.9           -73.984922           40.768653            -73.966285            40.764993                1     8             20   1.620422            0             1          0          1          0          0          0          0          0          0          0          0          0          0                    1                    0                      0                    0                      0                     0                       0"
      ]
     },
     "execution_count": 35,
     "metadata": {},
     "output_type": "execute_result"
    }
   ],
   "source": [
    "# Lets create dummy variables out of the categorical variables\n",
    "\n",
    "fullRaw2 = pd.get_dummies(fullRaw).copy() # 'Source'  column will change to \"Source_Train\" and \"Source_Test\"\n",
    "# We need not drop the \"nth\" category in ML models as they dont get impacted by multicollinearity.\n",
    "# Also, random forest logic picks a variable in one-by-one manner. Hence, its important to inlcude all possible variables.\n",
    "\n",
    "print(fullRaw2.shape)\n",
    "fullRaw2.head()"
   ]
  },
  {
   "cell_type": "markdown",
   "metadata": {},
   "source": [
    "### SAMPLING"
   ]
  },
  {
   "cell_type": "markdown",
   "metadata": {},
   "source": [
    "#### Divide the full dataset into train and test"
   ]
  },
  {
   "cell_type": "code",
   "execution_count": 36,
   "metadata": {},
   "outputs": [
    {
     "name": "stdout",
     "output_type": "stream",
     "text": [
      "(30698, 28)\n",
      "(10227, 28)\n"
     ]
    }
   ],
   "source": [
    "# Step 1: Divide the full data\n",
    "\n",
    "Train = fullRaw2[fullRaw2['Source_Train'] == 1].drop(['Source_Train', 'Source_Test'], axis = 1).copy()\n",
    "Test = fullRaw2[fullRaw2['Source_Train'] == 0].drop(['Source_Train', 'Source_Test'], axis = 1).copy()\n",
    "\n",
    "print(Train.shape)\n",
    "print(Test.shape)\n"
   ]
  },
  {
   "cell_type": "code",
   "execution_count": 37,
   "metadata": {},
   "outputs": [
    {
     "name": "stdout",
     "output_type": "stream",
     "text": [
      "(30698, 27)\n",
      "(30698,)\n",
      "(10227, 27)\n",
      "(10227,)\n"
     ]
    }
   ],
   "source": [
    "# Step 2: Extract independent variables (Xs) and dependent variables (Ys) into separate data objects\n",
    "\n",
    "dependentVar = \"amount\"\n",
    "trainX = Train.drop([dependentVar], axis = 1).copy()\n",
    "trainY = Train[dependentVar].copy()\n",
    "testX = Test.drop([dependentVar], axis = 1).copy()\n",
    "testY = Test[dependentVar].copy()\n",
    "\n",
    "print(trainX.shape)\n",
    "print(trainY.shape)\n",
    "print(testX.shape)\n",
    "print(testY.shape)"
   ]
  },
  {
   "cell_type": "code",
   "execution_count": null,
   "metadata": {},
   "outputs": [],
   "source": []
  },
  {
   "cell_type": "markdown",
   "metadata": {},
   "source": [
    "### MODEL BUILDING"
   ]
  },
  {
   "cell_type": "markdown",
   "metadata": {},
   "source": [
    "#### Build Model (Iteration 1/ Trial 1: Build the model with default tuning parameter values)"
   ]
  },
  {
   "cell_type": "code",
   "execution_count": 38,
   "metadata": {},
   "outputs": [],
   "source": [
    "M1 = RandomForestRegressor(random_state=123)\n",
    "M1 = M1.fit(trainX, trainY) # Indep, Dep"
   ]
  },
  {
   "cell_type": "markdown",
   "metadata": {},
   "source": [
    "#### Model Prediction on Testset"
   ]
  },
  {
   "cell_type": "code",
   "execution_count": 39,
   "metadata": {},
   "outputs": [
    {
     "data": {
      "text/html": [
       "<div>\n",
       "<style scoped>\n",
       "    .dataframe tbody tr th:only-of-type {\n",
       "        vertical-align: middle;\n",
       "    }\n",
       "\n",
       "    .dataframe tbody tr th {\n",
       "        vertical-align: top;\n",
       "    }\n",
       "\n",
       "    .dataframe thead th {\n",
       "        text-align: right;\n",
       "    }\n",
       "</style>\n",
       "<table border=\"1\" class=\"dataframe\">\n",
       "  <thead>\n",
       "    <tr style=\"text-align: right;\">\n",
       "      <th></th>\n",
       "      <th>Prediction</th>\n",
       "      <th>Actual</th>\n",
       "    </tr>\n",
       "  </thead>\n",
       "  <tbody>\n",
       "    <tr>\n",
       "      <th>0</th>\n",
       "      <td>48.8404</td>\n",
       "      <td>45.0</td>\n",
       "    </tr>\n",
       "    <tr>\n",
       "      <th>1</th>\n",
       "      <td>11.5130</td>\n",
       "      <td>13.5</td>\n",
       "    </tr>\n",
       "    <tr>\n",
       "      <th>2</th>\n",
       "      <td>13.4540</td>\n",
       "      <td>14.0</td>\n",
       "    </tr>\n",
       "    <tr>\n",
       "      <th>3</th>\n",
       "      <td>12.2160</td>\n",
       "      <td>9.7</td>\n",
       "    </tr>\n",
       "    <tr>\n",
       "      <th>4</th>\n",
       "      <td>8.3320</td>\n",
       "      <td>10.0</td>\n",
       "    </tr>\n",
       "  </tbody>\n",
       "</table>\n",
       "</div>"
      ],
      "text/plain": [
       "   Prediction  Actual\n",
       "0     48.8404    45.0\n",
       "1     11.5130    13.5\n",
       "2     13.4540    14.0\n",
       "3     12.2160     9.7\n",
       "4      8.3320    10.0"
      ]
     },
     "execution_count": 39,
     "metadata": {},
     "output_type": "execute_result"
    }
   ],
   "source": [
    "testPredDf = pd.DataFrame()\n",
    "\n",
    "testPredDf[\"Prediction\"] = M1.predict(testX)\n",
    "\n",
    "# Create a column to store actuals\n",
    "testPredDf[\"Actual\"] = testY.values\n",
    "\n",
    "# Validate if the above worked\n",
    "testPredDf.head()"
   ]
  },
  {
   "cell_type": "markdown",
   "metadata": {},
   "source": [
    "#### Model Evaluation"
   ]
  },
  {
   "cell_type": "code",
   "execution_count": 40,
   "metadata": {},
   "outputs": [
    {
     "name": "stdout",
     "output_type": "stream",
     "text": [
      "3.781131603900922\n",
      "18.693958848623513\n"
     ]
    }
   ],
   "source": [
    "# RMSE\n",
    "print(np.sqrt(np.mean((testPredDf[\"Actual\"] - testPredDf[\"Prediction\"])**2)))\n",
    "# This means on an \"average\", the taxi fare prediction would have +/- error of about $3.78\n",
    "# Lower the RMSE, better the model prediction\n",
    "\n",
    "# MAPE\n",
    "print((np.mean(np.abs(((testPredDf[\"Actual\"] - testPredDf[\"Prediction\"])/testPredDf[\"Actual\"]))))*100)\n",
    "# This means on an \"average\", the taxi fare prediction would have +/- error of ~19%\n",
    "# Lower the MAPE, better the model prediction"
   ]
  },
  {
   "cell_type": "code",
   "execution_count": null,
   "metadata": {},
   "outputs": [],
   "source": []
  },
  {
   "cell_type": "markdown",
   "metadata": {},
   "source": [
    "#### Variable Importance Plot from RF Model"
   ]
  },
  {
   "cell_type": "code",
   "execution_count": 41,
   "metadata": {},
   "outputs": [
    {
     "data": {
      "text/html": [
       "<div>\n",
       "<style scoped>\n",
       "    .dataframe tbody tr th:only-of-type {\n",
       "        vertical-align: middle;\n",
       "    }\n",
       "\n",
       "    .dataframe tbody tr th {\n",
       "        vertical-align: top;\n",
       "    }\n",
       "\n",
       "    .dataframe thead th {\n",
       "        text-align: right;\n",
       "    }\n",
       "</style>\n",
       "<table border=\"1\" class=\"dataframe\">\n",
       "  <thead>\n",
       "    <tr style=\"text-align: right;\">\n",
       "      <th></th>\n",
       "      <th>Importance</th>\n",
       "      <th>Variable</th>\n",
       "    </tr>\n",
       "  </thead>\n",
       "  <tbody>\n",
       "    <tr>\n",
       "      <th>7</th>\n",
       "      <td>0.823872</td>\n",
       "      <td>distance</td>\n",
       "    </tr>\n",
       "    <tr>\n",
       "      <th>2</th>\n",
       "      <td>0.046123</td>\n",
       "      <td>longitude_of_dropoff</td>\n",
       "    </tr>\n",
       "    <tr>\n",
       "      <th>0</th>\n",
       "      <td>0.029363</td>\n",
       "      <td>longitude_of_pickup</td>\n",
       "    </tr>\n",
       "    <tr>\n",
       "      <th>3</th>\n",
       "      <td>0.028831</td>\n",
       "      <td>latitude_of_dropoff</td>\n",
       "    </tr>\n",
       "    <tr>\n",
       "      <th>1</th>\n",
       "      <td>0.018084</td>\n",
       "      <td>latitude_of_pickup</td>\n",
       "    </tr>\n",
       "  </tbody>\n",
       "</table>\n",
       "</div>"
      ],
      "text/plain": [
       "   Importance              Variable\n",
       "7    0.823872              distance\n",
       "2    0.046123  longitude_of_dropoff\n",
       "0    0.029363   longitude_of_pickup\n",
       "3    0.028831   latitude_of_dropoff\n",
       "1    0.018084    latitude_of_pickup"
      ]
     },
     "execution_count": 41,
     "metadata": {},
     "output_type": "execute_result"
    }
   ],
   "source": [
    "# Variable importance\n",
    "# print(M1.feature_importances_)\n",
    "\n",
    "varImpDf = pd.DataFrame()\n",
    "varImpDf[\"Importance\"] = M1.feature_importances_\n",
    "varImpDf[\"Variable\"] = trainX.columns\n",
    "varImpDf.sort_values(\"Importance\", ascending = False, inplace = True)\n",
    "\n",
    "varImpDf.head()"
   ]
  },
  {
   "cell_type": "code",
   "execution_count": 42,
   "metadata": {},
   "outputs": [
    {
     "name": "stdout",
     "output_type": "stream",
     "text": [
      "[2.93631599e-02 1.80835054e-02 4.61233619e-02 2.88312256e-02\n",
      " 3.23026137e-03 1.25818661e-02 1.33159821e-02 8.23871520e-01\n",
      " 1.15382735e-03 8.81913368e-04 1.40931642e-03 1.20335923e-03\n",
      " 9.02369560e-04 7.99755191e-04 1.22254351e-03 8.63617948e-04\n",
      " 1.17803212e-03 1.33804816e-03 1.05171510e-03 2.56944415e-03\n",
      " 1.57878704e-03 1.37490837e-03 1.53433280e-03 1.32228574e-03\n",
      " 1.36294402e-03 1.48989499e-03 1.36202248e-03]\n",
      "Index(['longitude_of_pickup', 'latitude_of_pickup', 'longitude_of_dropoff', 'latitude_of_dropoff', 'no_of_passenger', 'hour', 'dayOfTheMonth', 'distance', 'month_Apr', 'month_Aug', 'month_Dec', 'month_Feb', 'month_Jan', 'month_Jul', 'month_Jun', 'month_Mar', 'month_May', 'month_Nov', 'month_Oct', 'month_Sep', 'dayOfTheWeek_Friday', 'dayOfTheWeek_Monday', 'dayOfTheWeek_Saturday', 'dayOfTheWeek_Sunday', 'dayOfTheWeek_Thursday', 'dayOfTheWeek_Tuesday', 'dayOfTheWeek_Wednesday'], dtype='object')\n"
     ]
    }
   ],
   "source": [
    "print(M1.feature_importances_)\n",
    "print(trainX.columns)"
   ]
  },
  {
   "cell_type": "code",
   "execution_count": 43,
   "metadata": {},
   "outputs": [
    {
     "data": {
      "text/plain": [
       "0.0013749083726883025"
      ]
     },
     "execution_count": 43,
     "metadata": {},
     "output_type": "execute_result"
    }
   ],
   "source": [
    "varImpDf[\"Importance\"].median()"
   ]
  },
  {
   "cell_type": "code",
   "execution_count": 44,
   "metadata": {},
   "outputs": [
    {
     "data": {
      "image/png": "[encoded data removed]",
      "text/plain": [
       "<Figure size 720x360 with 1 Axes>"
      ]
     },
     "metadata": {
      "needs_background": "light"
     },
     "output_type": "display_data"
    }
   ],
   "source": [
    "plt.rcParams['figure.figsize'] = [10,5] # Width, Height\n",
    "varImpDf.plot(x = \"Variable\", y = \"Importance\", kind = \"scatter\", rot = 90);"
   ]
  },
  {
   "cell_type": "code",
   "execution_count": null,
   "metadata": {},
   "outputs": [],
   "source": []
  },
  {
   "cell_type": "code",
   "execution_count": 45,
   "metadata": {},
   "outputs": [],
   "source": [
    "M2 = RandomForestRegressor(n_estimators = 150, max_features = 7, min_samples_leaf = 5, random_state = 123)\n",
    "M2 = M2.fit(trainX, trainY) # Indep, Dep"
   ]
  },
  {
   "cell_type": "code",
   "execution_count": 46,
   "metadata": {},
   "outputs": [
    {
     "name": "stdout",
     "output_type": "stream",
     "text": [
      "3.7370059916752725\n",
      "18.548164237772873\n"
     ]
    }
   ],
   "source": [
    "testPredDf = pd.DataFrame()\n",
    "testPredDf[\"Prediction\"] = M2.predict(testX)\n",
    "testPredDf[\"Actual\"] = testY.values\n",
    "\n",
    "print(np.sqrt(np.mean((testPredDf[\"Actual\"] - testPredDf[\"Prediction\"])**2)))\n",
    "print((np.mean(np.abs(((testPredDf[\"Actual\"] - testPredDf[\"Prediction\"])/testPredDf[\"Actual\"]))))*100)"
   ]
  },
  {
   "cell_type": "markdown",
   "metadata": {},
   "source": [
    "RMSE and MAPE reduced a little bit. But how do we know these are the \"best\" hyperparameter values? Well, GridSearch will allow us to answer this question."
   ]
  },
  {
   "cell_type": "markdown",
   "metadata": {},
   "source": [
    "### GRID SEARCH WITH CROSS VALIDATION"
   ]
  },
  {
   "cell_type": "code",
   "execution_count": 56,
   "metadata": {},
   "outputs": [],
   "source": [
    "myParamGrid = {\n",
    "    'n_estimators': [200, 250],\n",
    "    'max_features': [7, 9, 11],\n",
    "    'min_samples_leaf': [2, 3, 5, 10]\n",
    "} \n",
    "\n",
    "gridSearchModels = GridSearchCV(\n",
    "    estimator = RandomForestRegressor(random_state = 123, n_jobs = -1), # n_jobs = -1 for parallelization\n",
    "    param_grid = myParamGrid,  # param_grid is a dictionary\n",
    "    scoring = 'neg_mean_absolute_percentage_error', \n",
    "    cv=3).fit(trainX, trainY) \n",
    "\n",
    "# Other scoring parameters are available here: http://scikit-learn.org/stable/modules/model_evaluation.html#scoring-parameter\n",
    "gridSearchModelsEvalDf = pd.DataFrame.from_dict(gridSearchModels.cv_results_)\n"
   ]
  },
  {
   "cell_type": "code",
   "execution_count": 57,
   "metadata": {
    "scrolled": true
   },
   "outputs": [
    {
     "data": {
      "text/html": [
       "<div>\n",
       "<style scoped>\n",
       "    .dataframe tbody tr th:only-of-type {\n",
       "        vertical-align: middle;\n",
       "    }\n",
       "\n",
       "    .dataframe tbody tr th {\n",
       "        vertical-align: top;\n",
       "    }\n",
       "\n",
       "    .dataframe thead th {\n",
       "        text-align: right;\n",
       "    }\n",
       "</style>\n",
       "<table border=\"1\" class=\"dataframe\">\n",
       "  <thead>\n",
       "    <tr style=\"text-align: right;\">\n",
       "      <th></th>\n",
       "      <th>mean_fit_time</th>\n",
       "      <th>std_fit_time</th>\n",
       "      <th>mean_score_time</th>\n",
       "      <th>std_score_time</th>\n",
       "      <th>param_max_features</th>\n",
       "      <th>param_min_samples_leaf</th>\n",
       "      <th>param_n_estimators</th>\n",
       "      <th>params</th>\n",
       "      <th>split0_test_score</th>\n",
       "      <th>split1_test_score</th>\n",
       "      <th>split2_test_score</th>\n",
       "      <th>mean_test_score</th>\n",
       "      <th>std_test_score</th>\n",
       "      <th>rank_test_score</th>\n",
       "    </tr>\n",
       "  </thead>\n",
       "  <tbody>\n",
       "    <tr>\n",
       "      <th>0</th>\n",
       "      <td>4.775345</td>\n",
       "      <td>1.642334</td>\n",
       "      <td>0.153289</td>\n",
       "      <td>0.018088</td>\n",
       "      <td>7</td>\n",
       "      <td>2</td>\n",
       "      <td>200</td>\n",
       "      <td>{'max_features': 7, 'min_samples_leaf': 2, 'n_...</td>\n",
       "      <td>-0.190066</td>\n",
       "      <td>-0.187919</td>\n",
       "      <td>-0.191174</td>\n",
       "      <td>-0.189720</td>\n",
       "      <td>0.001351</td>\n",
       "      <td>16</td>\n",
       "    </tr>\n",
       "    <tr>\n",
       "      <th>1</th>\n",
       "      <td>5.346040</td>\n",
       "      <td>0.827293</td>\n",
       "      <td>0.252240</td>\n",
       "      <td>0.054649</td>\n",
       "      <td>7</td>\n",
       "      <td>2</td>\n",
       "      <td>250</td>\n",
       "      <td>{'max_features': 7, 'min_samples_leaf': 2, 'n_...</td>\n",
       "      <td>-0.190001</td>\n",
       "      <td>-0.187547</td>\n",
       "      <td>-0.191311</td>\n",
       "      <td>-0.189620</td>\n",
       "      <td>0.001560</td>\n",
       "      <td>15</td>\n",
       "    </tr>\n",
       "    <tr>\n",
       "      <th>2</th>\n",
       "      <td>3.572924</td>\n",
       "      <td>0.240142</td>\n",
       "      <td>0.156754</td>\n",
       "      <td>0.015490</td>\n",
       "      <td>7</td>\n",
       "      <td>3</td>\n",
       "      <td>200</td>\n",
       "      <td>{'max_features': 7, 'min_samples_leaf': 3, 'n_...</td>\n",
       "      <td>-0.190160</td>\n",
       "      <td>-0.187807</td>\n",
       "      <td>-0.191932</td>\n",
       "      <td>-0.189966</td>\n",
       "      <td>0.001689</td>\n",
       "      <td>18</td>\n",
       "    </tr>\n",
       "    <tr>\n",
       "      <th>3</th>\n",
       "      <td>4.659772</td>\n",
       "      <td>0.041638</td>\n",
       "      <td>0.180849</td>\n",
       "      <td>0.006140</td>\n",
       "      <td>7</td>\n",
       "      <td>3</td>\n",
       "      <td>250</td>\n",
       "      <td>{'max_features': 7, 'min_samples_leaf': 3, 'n_...</td>\n",
       "      <td>-0.190239</td>\n",
       "      <td>-0.187533</td>\n",
       "      <td>-0.191765</td>\n",
       "      <td>-0.189845</td>\n",
       "      <td>0.001750</td>\n",
       "      <td>17</td>\n",
       "    </tr>\n",
       "    <tr>\n",
       "      <th>4</th>\n",
       "      <td>3.152474</td>\n",
       "      <td>0.117335</td>\n",
       "      <td>0.126806</td>\n",
       "      <td>0.016066</td>\n",
       "      <td>7</td>\n",
       "      <td>5</td>\n",
       "      <td>200</td>\n",
       "      <td>{'max_features': 7, 'min_samples_leaf': 5, 'n_...</td>\n",
       "      <td>-0.191750</td>\n",
       "      <td>-0.188447</td>\n",
       "      <td>-0.193581</td>\n",
       "      <td>-0.191259</td>\n",
       "      <td>0.002125</td>\n",
       "      <td>22</td>\n",
       "    </tr>\n",
       "    <tr>\n",
       "      <th>5</th>\n",
       "      <td>3.708915</td>\n",
       "      <td>0.028513</td>\n",
       "      <td>0.138800</td>\n",
       "      <td>0.009050</td>\n",
       "      <td>7</td>\n",
       "      <td>5</td>\n",
       "      <td>250</td>\n",
       "      <td>{'max_features': 7, 'min_samples_leaf': 5, 'n_...</td>\n",
       "      <td>-0.191553</td>\n",
       "      <td>-0.188350</td>\n",
       "      <td>-0.193466</td>\n",
       "      <td>-0.191123</td>\n",
       "      <td>0.002111</td>\n",
       "      <td>21</td>\n",
       "    </tr>\n",
       "    <tr>\n",
       "      <th>6</th>\n",
       "      <td>2.717931</td>\n",
       "      <td>0.045296</td>\n",
       "      <td>0.101944</td>\n",
       "      <td>0.007018</td>\n",
       "      <td>7</td>\n",
       "      <td>10</td>\n",
       "      <td>200</td>\n",
       "      <td>{'max_features': 7, 'min_samples_leaf': 10, 'n...</td>\n",
       "      <td>-0.194534</td>\n",
       "      <td>-0.191105</td>\n",
       "      <td>-0.196557</td>\n",
       "      <td>-0.194065</td>\n",
       "      <td>0.002250</td>\n",
       "      <td>24</td>\n",
       "    </tr>\n",
       "    <tr>\n",
       "      <th>7</th>\n",
       "      <td>3.533827</td>\n",
       "      <td>0.214864</td>\n",
       "      <td>0.135175</td>\n",
       "      <td>0.012895</td>\n",
       "      <td>7</td>\n",
       "      <td>10</td>\n",
       "      <td>250</td>\n",
       "      <td>{'max_features': 7, 'min_samples_leaf': 10, 'n...</td>\n",
       "      <td>-0.194629</td>\n",
       "      <td>-0.190891</td>\n",
       "      <td>-0.196336</td>\n",
       "      <td>-0.193952</td>\n",
       "      <td>0.002274</td>\n",
       "      <td>23</td>\n",
       "    </tr>\n",
       "    <tr>\n",
       "      <th>8</th>\n",
       "      <td>4.334286</td>\n",
       "      <td>0.033666</td>\n",
       "      <td>0.159580</td>\n",
       "      <td>0.007774</td>\n",
       "      <td>9</td>\n",
       "      <td>2</td>\n",
       "      <td>200</td>\n",
       "      <td>{'max_features': 9, 'min_samples_leaf': 2, 'n_...</td>\n",
       "      <td>-0.187462</td>\n",
       "      <td>-0.186050</td>\n",
       "      <td>-0.189962</td>\n",
       "      <td>-0.187825</td>\n",
       "      <td>0.001618</td>\n",
       "      <td>10</td>\n",
       "    </tr>\n",
       "    <tr>\n",
       "      <th>9</th>\n",
       "      <td>5.333541</td>\n",
       "      <td>0.016234</td>\n",
       "      <td>0.184998</td>\n",
       "      <td>0.009567</td>\n",
       "      <td>9</td>\n",
       "      <td>2</td>\n",
       "      <td>250</td>\n",
       "      <td>{'max_features': 9, 'min_samples_leaf': 2, 'n_...</td>\n",
       "      <td>-0.187437</td>\n",
       "      <td>-0.185922</td>\n",
       "      <td>-0.189821</td>\n",
       "      <td>-0.187727</td>\n",
       "      <td>0.001605</td>\n",
       "      <td>9</td>\n",
       "    </tr>\n",
       "    <tr>\n",
       "      <th>10</th>\n",
       "      <td>3.837414</td>\n",
       "      <td>0.034493</td>\n",
       "      <td>0.146781</td>\n",
       "      <td>0.007945</td>\n",
       "      <td>9</td>\n",
       "      <td>3</td>\n",
       "      <td>200</td>\n",
       "      <td>{'max_features': 9, 'min_samples_leaf': 3, 'n_...</td>\n",
       "      <td>-0.187538</td>\n",
       "      <td>-0.185533</td>\n",
       "      <td>-0.189838</td>\n",
       "      <td>-0.187636</td>\n",
       "      <td>0.001759</td>\n",
       "      <td>8</td>\n",
       "    </tr>\n",
       "    <tr>\n",
       "      <th>11</th>\n",
       "      <td>4.696457</td>\n",
       "      <td>0.021297</td>\n",
       "      <td>0.182187</td>\n",
       "      <td>0.006544</td>\n",
       "      <td>9</td>\n",
       "      <td>3</td>\n",
       "      <td>250</td>\n",
       "      <td>{'max_features': 9, 'min_samples_leaf': 3, 'n_...</td>\n",
       "      <td>-0.187680</td>\n",
       "      <td>-0.185341</td>\n",
       "      <td>-0.189794</td>\n",
       "      <td>-0.187605</td>\n",
       "      <td>0.001819</td>\n",
       "      <td>7</td>\n",
       "    </tr>\n",
       "    <tr>\n",
       "      <th>12</th>\n",
       "      <td>3.518328</td>\n",
       "      <td>0.034180</td>\n",
       "      <td>0.116862</td>\n",
       "      <td>0.006501</td>\n",
       "      <td>9</td>\n",
       "      <td>5</td>\n",
       "      <td>200</td>\n",
       "      <td>{'max_features': 9, 'min_samples_leaf': 5, 'n_...</td>\n",
       "      <td>-0.188524</td>\n",
       "      <td>-0.186086</td>\n",
       "      <td>-0.190847</td>\n",
       "      <td>-0.188486</td>\n",
       "      <td>0.001944</td>\n",
       "      <td>12</td>\n",
       "    </tr>\n",
       "    <tr>\n",
       "      <th>13</th>\n",
       "      <td>4.360539</td>\n",
       "      <td>0.057188</td>\n",
       "      <td>0.138702</td>\n",
       "      <td>0.005277</td>\n",
       "      <td>9</td>\n",
       "      <td>5</td>\n",
       "      <td>250</td>\n",
       "      <td>{'max_features': 9, 'min_samples_leaf': 5, 'n_...</td>\n",
       "      <td>-0.188717</td>\n",
       "      <td>-0.186022</td>\n",
       "      <td>-0.190672</td>\n",
       "      <td>-0.188470</td>\n",
       "      <td>0.001906</td>\n",
       "      <td>11</td>\n",
       "    </tr>\n",
       "    <tr>\n",
       "      <th>14</th>\n",
       "      <td>3.163374</td>\n",
       "      <td>0.020044</td>\n",
       "      <td>0.097152</td>\n",
       "      <td>0.001047</td>\n",
       "      <td>9</td>\n",
       "      <td>10</td>\n",
       "      <td>200</td>\n",
       "      <td>{'max_features': 9, 'min_samples_leaf': 10, 'n...</td>\n",
       "      <td>-0.191224</td>\n",
       "      <td>-0.187210</td>\n",
       "      <td>-0.192880</td>\n",
       "      <td>-0.190438</td>\n",
       "      <td>0.002380</td>\n",
       "      <td>20</td>\n",
       "    </tr>\n",
       "    <tr>\n",
       "      <th>15</th>\n",
       "      <td>3.949527</td>\n",
       "      <td>0.018006</td>\n",
       "      <td>0.124030</td>\n",
       "      <td>0.004214</td>\n",
       "      <td>9</td>\n",
       "      <td>10</td>\n",
       "      <td>250</td>\n",
       "      <td>{'max_features': 9, 'min_samples_leaf': 10, 'n...</td>\n",
       "      <td>-0.191260</td>\n",
       "      <td>-0.187190</td>\n",
       "      <td>-0.192834</td>\n",
       "      <td>-0.190428</td>\n",
       "      <td>0.002378</td>\n",
       "      <td>19</td>\n",
       "    </tr>\n",
       "    <tr>\n",
       "      <th>16</th>\n",
       "      <td>5.204248</td>\n",
       "      <td>0.043510</td>\n",
       "      <td>0.154099</td>\n",
       "      <td>0.010568</td>\n",
       "      <td>11</td>\n",
       "      <td>2</td>\n",
       "      <td>200</td>\n",
       "      <td>{'max_features': 11, 'min_samples_leaf': 2, 'n...</td>\n",
       "      <td>-0.187268</td>\n",
       "      <td>-0.185885</td>\n",
       "      <td>-0.189281</td>\n",
       "      <td>-0.187478</td>\n",
       "      <td>0.001394</td>\n",
       "      <td>5</td>\n",
       "    </tr>\n",
       "    <tr>\n",
       "      <th>17</th>\n",
       "      <td>6.407774</td>\n",
       "      <td>0.234984</td>\n",
       "      <td>0.192049</td>\n",
       "      <td>0.011231</td>\n",
       "      <td>11</td>\n",
       "      <td>2</td>\n",
       "      <td>250</td>\n",
       "      <td>{'max_features': 11, 'min_samples_leaf': 2, 'n...</td>\n",
       "      <td>-0.187199</td>\n",
       "      <td>-0.185846</td>\n",
       "      <td>-0.189265</td>\n",
       "      <td>-0.187436</td>\n",
       "      <td>0.001406</td>\n",
       "      <td>4</td>\n",
       "    </tr>\n",
       "    <tr>\n",
       "      <th>18</th>\n",
       "      <td>4.417024</td>\n",
       "      <td>0.077979</td>\n",
       "      <td>0.148811</td>\n",
       "      <td>0.015585</td>\n",
       "      <td>11</td>\n",
       "      <td>3</td>\n",
       "      <td>200</td>\n",
       "      <td>{'max_features': 11, 'min_samples_leaf': 3, 'n...</td>\n",
       "      <td>-0.186871</td>\n",
       "      <td>-0.185545</td>\n",
       "      <td>-0.189403</td>\n",
       "      <td>-0.187273</td>\n",
       "      <td>0.001600</td>\n",
       "      <td>2</td>\n",
       "    </tr>\n",
       "    <tr>\n",
       "      <th>19</th>\n",
       "      <td>5.694602</td>\n",
       "      <td>0.085377</td>\n",
       "      <td>0.161076</td>\n",
       "      <td>0.010972</td>\n",
       "      <td>11</td>\n",
       "      <td>3</td>\n",
       "      <td>250</td>\n",
       "      <td>{'max_features': 11, 'min_samples_leaf': 3, 'n...</td>\n",
       "      <td>-0.186780</td>\n",
       "      <td>-0.185288</td>\n",
       "      <td>-0.189255</td>\n",
       "      <td>-0.187108</td>\n",
       "      <td>0.001636</td>\n",
       "      <td>1</td>\n",
       "    </tr>\n",
       "    <tr>\n",
       "      <th>20</th>\n",
       "      <td>4.199686</td>\n",
       "      <td>0.060333</td>\n",
       "      <td>0.120668</td>\n",
       "      <td>0.005098</td>\n",
       "      <td>11</td>\n",
       "      <td>5</td>\n",
       "      <td>200</td>\n",
       "      <td>{'max_features': 11, 'min_samples_leaf': 5, 'n...</td>\n",
       "      <td>-0.187326</td>\n",
       "      <td>-0.185404</td>\n",
       "      <td>-0.189749</td>\n",
       "      <td>-0.187493</td>\n",
       "      <td>0.001778</td>\n",
       "      <td>6</td>\n",
       "    </tr>\n",
       "    <tr>\n",
       "      <th>21</th>\n",
       "      <td>5.231389</td>\n",
       "      <td>0.094905</td>\n",
       "      <td>0.163772</td>\n",
       "      <td>0.004485</td>\n",
       "      <td>11</td>\n",
       "      <td>5</td>\n",
       "      <td>250</td>\n",
       "      <td>{'max_features': 11, 'min_samples_leaf': 5, 'n...</td>\n",
       "      <td>-0.187249</td>\n",
       "      <td>-0.185323</td>\n",
       "      <td>-0.189727</td>\n",
       "      <td>-0.187433</td>\n",
       "      <td>0.001803</td>\n",
       "      <td>3</td>\n",
       "    </tr>\n",
       "    <tr>\n",
       "      <th>22</th>\n",
       "      <td>3.750626</td>\n",
       "      <td>0.017665</td>\n",
       "      <td>0.116036</td>\n",
       "      <td>0.018362</td>\n",
       "      <td>11</td>\n",
       "      <td>10</td>\n",
       "      <td>200</td>\n",
       "      <td>{'max_features': 11, 'min_samples_leaf': 10, '...</td>\n",
       "      <td>-0.189744</td>\n",
       "      <td>-0.186581</td>\n",
       "      <td>-0.191456</td>\n",
       "      <td>-0.189261</td>\n",
       "      <td>0.002019</td>\n",
       "      <td>14</td>\n",
       "    </tr>\n",
       "    <tr>\n",
       "      <th>23</th>\n",
       "      <td>4.751928</td>\n",
       "      <td>0.121186</td>\n",
       "      <td>0.134298</td>\n",
       "      <td>0.012621</td>\n",
       "      <td>11</td>\n",
       "      <td>10</td>\n",
       "      <td>250</td>\n",
       "      <td>{'max_features': 11, 'min_samples_leaf': 10, '...</td>\n",
       "      <td>-0.189776</td>\n",
       "      <td>-0.186425</td>\n",
       "      <td>-0.191473</td>\n",
       "      <td>-0.189225</td>\n",
       "      <td>0.002098</td>\n",
       "      <td>13</td>\n",
       "    </tr>\n",
       "  </tbody>\n",
       "</table>\n",
       "</div>"
      ],
      "text/plain": [
       "    mean_fit_time  std_fit_time  mean_score_time  std_score_time param_max_features param_min_samples_leaf param_n_estimators                                             params  split0_test_score  split1_test_score  split2_test_score  mean_test_score  std_test_score  rank_test_score\n",
       "0        4.775345      1.642334         0.153289        0.018088                  7                      2                200  {'max_features': 7, 'min_samples_leaf': 2, 'n_...          -0.190066          -0.187919          -0.191174        -0.189720        0.001351               16\n",
       "1        5.346040      0.827293         0.252240        0.054649                  7                      2                250  {'max_features': 7, 'min_samples_leaf': 2, 'n_...          -0.190001          -0.187547          -0.191311        -0.189620        0.001560               15\n",
       "2        3.572924      0.240142         0.156754        0.015490                  7                      3                200  {'max_features': 7, 'min_samples_leaf': 3, 'n_...          -0.190160          -0.187807          -0.191932        -0.189966        0.001689               18\n",
       "3        4.659772      0.041638         0.180849        0.006140                  7                      3                250  {'max_features': 7, 'min_samples_leaf': 3, 'n_...          -0.190239          -0.187533          -0.191765        -0.189845        0.001750               17\n",
       "4        3.152474      0.117335         0.126806        0.016066                  7                      5                200  {'max_features': 7, 'min_samples_leaf': 5, 'n_...          -0.191750          -0.188447          -0.193581        -0.191259        0.002125               22\n",
       "5        3.708915      0.028513         0.138800        0.009050                  7                      5                250  {'max_features': 7, 'min_samples_leaf': 5, 'n_...          -0.191553          -0.188350          -0.193466        -0.191123        0.002111               21\n",
       "6        2.717931      0.045296         0.101944        0.007018                  7                     10                200  {'max_features': 7, 'min_samples_leaf': 10, 'n...          -0.194534          -0.191105          -0.196557        -0.194065        0.002250               24\n",
       "7        3.533827      0.214864         0.135175        0.012895                  7                     10                250  {'max_features': 7, 'min_samples_leaf': 10, 'n...          -0.194629          -0.190891          -0.196336        -0.193952        0.002274               23\n",
       "8        4.334286      0.033666         0.159580        0.007774                  9                      2                200  {'max_features': 9, 'min_samples_leaf': 2, 'n_...          -0.187462          -0.186050          -0.189962        -0.187825        0.001618               10\n",
       "9        5.333541      0.016234         0.184998        0.009567                  9                      2                250  {'max_features': 9, 'min_samples_leaf': 2, 'n_...          -0.187437          -0.185922          -0.189821        -0.187727        0.001605                9\n",
       "10       3.837414      0.034493         0.146781        0.007945                  9                      3                200  {'max_features': 9, 'min_samples_leaf': 3, 'n_...          -0.187538          -0.185533          -0.189838        -0.187636        0.001759                8\n",
       "11       4.696457      0.021297         0.182187        0.006544                  9                      3                250  {'max_features': 9, 'min_samples_leaf': 3, 'n_...          -0.187680          -0.185341          -0.189794        -0.187605        0.001819                7\n",
       "12       3.518328      0.034180         0.116862        0.006501                  9                      5                200  {'max_features': 9, 'min_samples_leaf': 5, 'n_...          -0.188524          -0.186086          -0.190847        -0.188486        0.001944               12\n",
       "13       4.360539      0.057188         0.138702        0.005277                  9                      5                250  {'max_features': 9, 'min_samples_leaf': 5, 'n_...          -0.188717          -0.186022          -0.190672        -0.188470        0.001906               11\n",
       "14       3.163374      0.020044         0.097152        0.001047                  9                     10                200  {'max_features': 9, 'min_samples_leaf': 10, 'n...          -0.191224          -0.187210          -0.192880        -0.190438        0.002380               20\n",
       "15       3.949527      0.018006         0.124030        0.004214                  9                     10                250  {'max_features': 9, 'min_samples_leaf': 10, 'n...          -0.191260          -0.187190          -0.192834        -0.190428        0.002378               19\n",
       "16       5.204248      0.043510         0.154099        0.010568                 11                      2                200  {'max_features': 11, 'min_samples_leaf': 2, 'n...          -0.187268          -0.185885          -0.189281        -0.187478        0.001394                5\n",
       "17       6.407774      0.234984         0.192049        0.011231                 11                      2                250  {'max_features': 11, 'min_samples_leaf': 2, 'n...          -0.187199          -0.185846          -0.189265        -0.187436        0.001406                4\n",
       "18       4.417024      0.077979         0.148811        0.015585                 11                      3                200  {'max_features': 11, 'min_samples_leaf': 3, 'n...          -0.186871          -0.185545          -0.189403        -0.187273        0.001600                2\n",
       "19       5.694602      0.085377         0.161076        0.010972                 11                      3                250  {'max_features': 11, 'min_samples_leaf': 3, 'n...          -0.186780          -0.185288          -0.189255        -0.187108        0.001636                1\n",
       "20       4.199686      0.060333         0.120668        0.005098                 11                      5                200  {'max_features': 11, 'min_samples_leaf': 5, 'n...          -0.187326          -0.185404          -0.189749        -0.187493        0.001778                6\n",
       "21       5.231389      0.094905         0.163772        0.004485                 11                      5                250  {'max_features': 11, 'min_samples_leaf': 5, 'n...          -0.187249          -0.185323          -0.189727        -0.187433        0.001803                3\n",
       "22       3.750626      0.017665         0.116036        0.018362                 11                     10                200  {'max_features': 11, 'min_samples_leaf': 10, '...          -0.189744          -0.186581          -0.191456        -0.189261        0.002019               14\n",
       "23       4.751928      0.121186         0.134298        0.012621                 11                     10                250  {'max_features': 11, 'min_samples_leaf': 10, '...          -0.189776          -0.186425          -0.191473        -0.189225        0.002098               13"
      ]
     },
     "execution_count": 57,
     "metadata": {},
     "output_type": "execute_result"
    }
   ],
   "source": [
    "gridSearchModelsEvalDf"
   ]
  },
  {
   "cell_type": "code",
   "execution_count": 58,
   "metadata": {},
   "outputs": [],
   "source": [
    "gridSearchModelsEvalDf.to_csv(\"gridSearchModelsEvalDf.csv\")"
   ]
  },
  {
   "cell_type": "code",
   "execution_count": 59,
   "metadata": {},
   "outputs": [
    {
     "data": {
      "text/plain": [
       "'C:\\\\Users\\\\rahul\\\\Documents\\\\IMR\\\\PGDA\\\\Datasets\\\\Random_Forest'"
      ]
     },
     "execution_count": 59,
     "metadata": {},
     "output_type": "execute_result"
    }
   ],
   "source": [
    "import os\n",
    "os.getcwd()"
   ]
  },
  {
   "cell_type": "markdown",
   "metadata": {},
   "source": [
    "#### Build final model with best hyperparameters found through grid search "
   ]
  },
  {
   "cell_type": "code",
   "execution_count": 60,
   "metadata": {},
   "outputs": [],
   "source": [
    "M3 = RandomForestRegressor(n_estimators = 250, max_features = 11, min_samples_leaf = 3, random_state = 123)\n",
    "M3 = M3.fit(trainX, trainY) # Indep, Dep"
   ]
  },
  {
   "cell_type": "code",
   "execution_count": 61,
   "metadata": {},
   "outputs": [
    {
     "name": "stdout",
     "output_type": "stream",
     "text": [
      "3.6881924571841607\n",
      "18.117861915616484\n"
     ]
    }
   ],
   "source": [
    "testPredDf = pd.DataFrame()\n",
    "testPredDf[\"Prediction\"] = M3.predict(testX)\n",
    "testPredDf[\"Actual\"] = testY.values\n",
    "\n",
    "print(np.sqrt(np.mean((testPredDf[\"Actual\"] - testPredDf[\"Prediction\"])**2)))\n",
    "print((np.mean(np.abs(((testPredDf[\"Actual\"] - testPredDf[\"Prediction\"])/testPredDf[\"Actual\"]))))*100)"
   ]
  },
  {
   "cell_type": "markdown",
   "metadata": {},
   "source": [
    "RMSE and MAPE reduced even further."
   ]
  },
  {
   "cell_type": "code",
   "execution_count": null,
   "metadata": {},
   "outputs": [],
   "source": []
  },
  {
   "cell_type": "markdown",
   "metadata": {},
   "source": [
    "#### Linear Regression Model Comparison"
   ]
  },
  {
   "cell_type": "code",
   "execution_count": 47,
   "metadata": {},
   "outputs": [],
   "source": [
    "from statsmodels.api import add_constant, OLS"
   ]
  },
  {
   "cell_type": "code",
   "execution_count": 48,
   "metadata": {},
   "outputs": [
    {
     "name": "stdout",
     "output_type": "stream",
     "text": [
      "6.378788120173923\n",
      "29.281811115810918\n"
     ]
    }
   ],
   "source": [
    "fullRaw2 = pd.get_dummies(fullRaw, drop_first = True).copy()\n",
    "\n",
    "Train = fullRaw2[fullRaw2['Source_Train'] == 1].drop(['Source_Train'], axis = 1).copy()\n",
    "Test = fullRaw2[fullRaw2['Source_Train'] == 0].drop(['Source_Train'], axis = 1).copy()\n",
    "\n",
    "dependentVar = \"amount\"\n",
    "trainX = Train.drop([dependentVar], axis = 1).copy()\n",
    "trainY = Train[dependentVar].copy()\n",
    "testX = Test.drop([dependentVar], axis = 1).copy()\n",
    "testY = Test[dependentVar].copy()\n",
    "\n",
    "trainX = add_constant(trainX)\n",
    "testX = add_constant(testX)\n",
    "\n",
    "linRegModel = OLS(trainY, trainX).fit()\n",
    "\n",
    "testPredDf = pd.DataFrame()\n",
    "testPredDf[\"Prediction\"] = linRegModel.predict(testX)\n",
    "testPredDf[\"Actual\"] = testY.values\n",
    "\n",
    "print(np.sqrt(np.mean((testPredDf[\"Actual\"] - testPredDf[\"Prediction\"])**2)))\n",
    "print((np.mean(np.abs(((testPredDf[\"Actual\"] - testPredDf[\"Prediction\"])/testPredDf[\"Actual\"]))))*100)\n"
   ]
  },
  {
   "cell_type": "code",
   "execution_count": null,
   "metadata": {},
   "outputs": [],
   "source": []
  },
  {
   "cell_type": "code",
   "execution_count": null,
   "metadata": {},
   "outputs": [],
   "source": []
  },
  {
   "cell_type": "code",
   "execution_count": null,
   "metadata": {},
   "outputs": [],
   "source": [
    "!pip install mlxtend"
   ]
  },
  {
   "cell_type": "code",
   "execution_count": 49,
   "metadata": {},
   "outputs": [],
   "source": [
    "from mlxtend.evaluate import bias_variance_decomp\n",
    "from sklearn.tree import DecisionTreeRegressor\n",
    "from sklearn.linear_model import LinearRegression # Same as OLS() but LinearRegression() doesnt provide p-values"
   ]
  },
  {
   "cell_type": "code",
   "execution_count": 50,
   "metadata": {},
   "outputs": [
    {
     "name": "stdout",
     "output_type": "stream",
     "text": [
      "Avg. Expected Error: 41.20451131118972\n",
      "Avg. Bias: 40.706216011490305\n",
      "Avg. Variance: 0.4982952996994093\n"
     ]
    }
   ],
   "source": [
    "# Linear Regression\n",
    "avgExpectedLoss, avgBias, avgVar = bias_variance_decomp(\n",
    "    LinearRegression(), trainX.values, trainY.values, testX.values, testY.values, \n",
    "    num_rounds = 25, loss = 'mse', random_seed = 123) # The function doesnt accept pandas df, hence, need to use .values (array)\n",
    "\n",
    "print(f\"Avg. Expected Error: {avgExpectedLoss}\")\n",
    "print(f\"Avg. Bias: {avgBias}\")\n",
    "print(f\"Avg. Variance: {avgVar}\")\n",
    "\n",
    "# Linear Regression is a simple algorithm, hence, it produces high bias - low variance models"
   ]
  },
  {
   "cell_type": "code",
   "execution_count": 51,
   "metadata": {},
   "outputs": [
    {
     "name": "stdout",
     "output_type": "stream",
     "text": [
      "Avg. Expected Error: 27.86248541194876\n",
      "Avg. Bias: 14.579721387026497\n",
      "Avg. Variance: 13.282764024922262\n"
     ]
    }
   ],
   "source": [
    "# Decision Tree Regressor\n",
    "avgExpectedLoss, avgBias, avgVar = bias_variance_decomp(\n",
    "    DecisionTreeRegressor(), trainX.values, trainY.values, testX.values, testY.values, \n",
    "    num_rounds = 25, loss = 'mse', random_seed = 123) # The function doesnt accept pandas df, hence, need to use .values (array)\n",
    "\n",
    "print(f\"Avg. Expected Error: {avgExpectedLoss}\")\n",
    "print(f\"Avg. Bias: {avgBias}\")\n",
    "print(f\"Avg. Variance: {avgVar}\")\n",
    "\n",
    "# Decision Trees are usually better \"predictive\" models than linear regression as the \"Avg Expected Error\" is quite lower than\n",
    "# Linear Regression model, but Decision Trees suffer quite a bit from high-variance"
   ]
  },
  {
   "cell_type": "code",
   "execution_count": 52,
   "metadata": {},
   "outputs": [
    {
     "name": "stdout",
     "output_type": "stream",
     "text": [
      "Avg. Expected Error: 14.938487971239464\n",
      "Avg. Bias: 14.043881349021259\n",
      "Avg. Variance: 0.8946066222182065\n"
     ]
    }
   ],
   "source": [
    "# Random Forest Regressor\n",
    "avgExpectedLoss, avgBias, avgVar = bias_variance_decomp(\n",
    "    RandomForestRegressor(), trainX.values, trainY.values, testX.values, testY.values, \n",
    "    num_rounds = 5, loss = 'mse', random_seed = 123) # The function doesnt accept pandas df, hence, need to use .values (array)\n",
    "\n",
    "print(f\"Avg. Expected Error: {avgExpectedLoss}\")\n",
    "print(f\"Avg. Bias: {avgBias}\")\n",
    "print(f\"Avg. Variance: {avgVar}\")\n",
    "\n",
    "# Random Forest is complex algorithm, hence it reduces the \"Avg. Expected Error\" by a significant margin and it maintains\n",
    "# a very low variance because of the multiple trees - as an \"averaged\" prediction comes from NOT one tree but multiple\n",
    "# trees. Error in RF model is mostly due to high bias, which would be dealt with if there are more relevant features added."
   ]
  },
  {
   "cell_type": "code",
   "execution_count": null,
   "metadata": {},
   "outputs": [],
   "source": []
  }
 ],
 "metadata": {
  "kernelspec": {
   "display_name": "Python 3",
   "language": "python",
   "name": "python3"
  },
  "language_info": {
   "codemirror_mode": {
    "name": "ipython",
    "version": 3
   },
   "file_extension": ".py",
   "mimetype": "text/x-python",
   "name": "python",
   "nbconvert_exporter": "python",
   "pygments_lexer": "ipython3",
   "version": "3.8.5"
  }
 },
 "nbformat": 4,
 "nbformat_minor": 4
}
